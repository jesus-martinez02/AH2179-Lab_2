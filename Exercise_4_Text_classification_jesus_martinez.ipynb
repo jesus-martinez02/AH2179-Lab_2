{
  "cells": [
    {
      "cell_type": "markdown",
      "metadata": {
        "id": "YkcamE0EJJqx"
      },
      "source": [
        "# Preparing basic knowledge for Classification\n",
        "\n",
        "The code below is using Python with the Pandas and Scikit-learn libraries to create a word matrix from a list of strings."
      ]
    },
    {
      "cell_type": "code",
      "execution_count": 26,
      "metadata": {
        "colab": {
          "base_uri": "https://localhost:8080/",
          "height": 174
        },
        "id": "k9RYH5vPJCil",
        "outputId": "722a3e5f-d879-46a6-b7b2-b6ee1752509a"
      },
      "outputs": [
        {
          "data": {
            "application/vnd.microsoft.datawrangler.viewer.v0+json": {
              "columns": [
                {
                  "name": "index",
                  "rawType": "object",
                  "type": "string"
                },
                {
                  "name": "autumn",
                  "rawType": "int64",
                  "type": "integer"
                },
                {
                  "name": "birds",
                  "rawType": "int64",
                  "type": "integer"
                },
                {
                  "name": "breeze",
                  "rawType": "int64",
                  "type": "integer"
                },
                {
                  "name": "brightly",
                  "rawType": "int64",
                  "type": "integer"
                },
                {
                  "name": "chirp",
                  "rawType": "int64",
                  "type": "integer"
                },
                {
                  "name": "clear",
                  "rawType": "int64",
                  "type": "integer"
                },
                {
                  "name": "early",
                  "rawType": "int64",
                  "type": "integer"
                },
                {
                  "name": "gentle",
                  "rawType": "int64",
                  "type": "integer"
                },
                {
                  "name": "leaves",
                  "rawType": "int64",
                  "type": "integer"
                },
                {
                  "name": "meadow",
                  "rawType": "int64",
                  "type": "integer"
                },
                {
                  "name": "morning",
                  "rawType": "int64",
                  "type": "integer"
                },
                {
                  "name": "night",
                  "rawType": "int64",
                  "type": "integer"
                },
                {
                  "name": "quiet",
                  "rawType": "int64",
                  "type": "integer"
                },
                {
                  "name": "rustles",
                  "rawType": "int64",
                  "type": "integer"
                },
                {
                  "name": "sets",
                  "rawType": "int64",
                  "type": "integer"
                },
                {
                  "name": "sky",
                  "rawType": "int64",
                  "type": "integer"
                },
                {
                  "name": "softly",
                  "rawType": "int64",
                  "type": "integer"
                },
                {
                  "name": "stars",
                  "rawType": "int64",
                  "type": "integer"
                },
                {
                  "name": "sun",
                  "rawType": "int64",
                  "type": "integer"
                },
                {
                  "name": "twinkle",
                  "rawType": "int64",
                  "type": "integer"
                }
              ],
              "ref": "54edb3bf-6321-4ea2-a157-8b5bbb499c04",
              "rows": [
                [
                  "Line 1",
                  "0",
                  "0",
                  "0",
                  "0",
                  "0",
                  "0",
                  "0",
                  "0",
                  "0",
                  "1",
                  "0",
                  "0",
                  "1",
                  "0",
                  "1",
                  "0",
                  "0",
                  "0",
                  "1",
                  "0"
                ],
                [
                  "Line 2",
                  "0",
                  "1",
                  "0",
                  "0",
                  "1",
                  "0",
                  "1",
                  "0",
                  "0",
                  "0",
                  "1",
                  "0",
                  "0",
                  "0",
                  "0",
                  "0",
                  "1",
                  "0",
                  "0",
                  "0"
                ],
                [
                  "Line 3",
                  "1",
                  "0",
                  "1",
                  "0",
                  "0",
                  "0",
                  "0",
                  "1",
                  "1",
                  "0",
                  "0",
                  "0",
                  "0",
                  "1",
                  "0",
                  "0",
                  "0",
                  "0",
                  "0",
                  "0"
                ],
                [
                  "Line 4",
                  "0",
                  "0",
                  "0",
                  "1",
                  "0",
                  "1",
                  "0",
                  "0",
                  "0",
                  "0",
                  "0",
                  "1",
                  "0",
                  "0",
                  "0",
                  "1",
                  "0",
                  "1",
                  "0",
                  "1"
                ]
              ],
              "shape": {
                "columns": 20,
                "rows": 4
              }
            },
            "text/html": [
              "<div>\n",
              "<style scoped>\n",
              "    .dataframe tbody tr th:only-of-type {\n",
              "        vertical-align: middle;\n",
              "    }\n",
              "\n",
              "    .dataframe tbody tr th {\n",
              "        vertical-align: top;\n",
              "    }\n",
              "\n",
              "    .dataframe thead th {\n",
              "        text-align: right;\n",
              "    }\n",
              "</style>\n",
              "<table border=\"1\" class=\"dataframe\">\n",
              "  <thead>\n",
              "    <tr style=\"text-align: right;\">\n",
              "      <th></th>\n",
              "      <th>autumn</th>\n",
              "      <th>birds</th>\n",
              "      <th>breeze</th>\n",
              "      <th>brightly</th>\n",
              "      <th>chirp</th>\n",
              "      <th>clear</th>\n",
              "      <th>early</th>\n",
              "      <th>gentle</th>\n",
              "      <th>leaves</th>\n",
              "      <th>meadow</th>\n",
              "      <th>morning</th>\n",
              "      <th>night</th>\n",
              "      <th>quiet</th>\n",
              "      <th>rustles</th>\n",
              "      <th>sets</th>\n",
              "      <th>sky</th>\n",
              "      <th>softly</th>\n",
              "      <th>stars</th>\n",
              "      <th>sun</th>\n",
              "      <th>twinkle</th>\n",
              "    </tr>\n",
              "  </thead>\n",
              "  <tbody>\n",
              "    <tr>\n",
              "      <th>Line 1</th>\n",
              "      <td>0</td>\n",
              "      <td>0</td>\n",
              "      <td>0</td>\n",
              "      <td>0</td>\n",
              "      <td>0</td>\n",
              "      <td>0</td>\n",
              "      <td>0</td>\n",
              "      <td>0</td>\n",
              "      <td>0</td>\n",
              "      <td>1</td>\n",
              "      <td>0</td>\n",
              "      <td>0</td>\n",
              "      <td>1</td>\n",
              "      <td>0</td>\n",
              "      <td>1</td>\n",
              "      <td>0</td>\n",
              "      <td>0</td>\n",
              "      <td>0</td>\n",
              "      <td>1</td>\n",
              "      <td>0</td>\n",
              "    </tr>\n",
              "    <tr>\n",
              "      <th>Line 2</th>\n",
              "      <td>0</td>\n",
              "      <td>1</td>\n",
              "      <td>0</td>\n",
              "      <td>0</td>\n",
              "      <td>1</td>\n",
              "      <td>0</td>\n",
              "      <td>1</td>\n",
              "      <td>0</td>\n",
              "      <td>0</td>\n",
              "      <td>0</td>\n",
              "      <td>1</td>\n",
              "      <td>0</td>\n",
              "      <td>0</td>\n",
              "      <td>0</td>\n",
              "      <td>0</td>\n",
              "      <td>0</td>\n",
              "      <td>1</td>\n",
              "      <td>0</td>\n",
              "      <td>0</td>\n",
              "      <td>0</td>\n",
              "    </tr>\n",
              "    <tr>\n",
              "      <th>Line 3</th>\n",
              "      <td>1</td>\n",
              "      <td>0</td>\n",
              "      <td>1</td>\n",
              "      <td>0</td>\n",
              "      <td>0</td>\n",
              "      <td>0</td>\n",
              "      <td>0</td>\n",
              "      <td>1</td>\n",
              "      <td>1</td>\n",
              "      <td>0</td>\n",
              "      <td>0</td>\n",
              "      <td>0</td>\n",
              "      <td>0</td>\n",
              "      <td>1</td>\n",
              "      <td>0</td>\n",
              "      <td>0</td>\n",
              "      <td>0</td>\n",
              "      <td>0</td>\n",
              "      <td>0</td>\n",
              "      <td>0</td>\n",
              "    </tr>\n",
              "    <tr>\n",
              "      <th>Line 4</th>\n",
              "      <td>0</td>\n",
              "      <td>0</td>\n",
              "      <td>0</td>\n",
              "      <td>1</td>\n",
              "      <td>0</td>\n",
              "      <td>1</td>\n",
              "      <td>0</td>\n",
              "      <td>0</td>\n",
              "      <td>0</td>\n",
              "      <td>0</td>\n",
              "      <td>0</td>\n",
              "      <td>1</td>\n",
              "      <td>0</td>\n",
              "      <td>0</td>\n",
              "      <td>0</td>\n",
              "      <td>1</td>\n",
              "      <td>0</td>\n",
              "      <td>1</td>\n",
              "      <td>0</td>\n",
              "      <td>1</td>\n",
              "    </tr>\n",
              "  </tbody>\n",
              "</table>\n",
              "</div>"
            ],
            "text/plain": [
              "        autumn  birds  breeze  brightly  chirp  clear  early  gentle  leaves  \\\n",
              "Line 1       0      0       0         0      0      0      0       0       0   \n",
              "Line 2       0      1       0         0      1      0      1       0       0   \n",
              "Line 3       1      0       1         0      0      0      0       1       1   \n",
              "Line 4       0      0       0         1      0      1      0       0       0   \n",
              "\n",
              "        meadow  morning  night  quiet  rustles  sets  sky  softly  stars  sun  \\\n",
              "Line 1       1        0      0      1        0     1    0       0      0    1   \n",
              "Line 2       0        1      0      0        0     0    0       1      0    0   \n",
              "Line 3       0        0      0      0        1     0    0       0      0    0   \n",
              "Line 4       0        0      1      0        0     0    1       0      1    0   \n",
              "\n",
              "        twinkle  \n",
              "Line 1        0  \n",
              "Line 2        0  \n",
              "Line 3        0  \n",
              "Line 4        1  "
            ]
          },
          "execution_count": 26,
          "metadata": {},
          "output_type": "execute_result"
        }
      ],
      "source": [
        "import pandas as pd\n",
        "from sklearn.feature_extraction.text import CountVectorizer\n",
        "\n",
        "# Define the text\n",
        "lines = [\n",
        "    'The sun sets over the quiet meadow.',\n",
        "    'Birds chirp softly in the early morning.',\n",
        "    'A gentle breeze rustles the autumn leaves.',\n",
        "    'Stars twinkle brightly in the clear night sky.'\n",
        "]\n",
        "\n",
        "# Creat the CountVectorizer instance, the stop_words parameter is set to \"english\"\n",
        "# to remove common English stop words like \"and\", \"the\", and \"a\"\n",
        "vectorizer = CountVectorizer(stop_words='english')\n",
        "\n",
        "# Convert the text to vectorizer\n",
        "word_matrix = vectorizer.fit_transform(lines)\n",
        "\n",
        "# The get_feature_names_out method is used to get the feature names \n",
        "# (i.e., the individual words) in the word matrix\n",
        "feature_names = vectorizer.get_feature_names_out()\n",
        "\n",
        "# The line_names list is created to store the names of each line in the original\n",
        "# list of strings\n",
        "line_names = [f'Line {(i + 1):d}' for i, _ in enumerate(word_matrix)]\n",
        "\n",
        "# A Pandas DataFrame is created using the word_matrix.toarray() method to convert \n",
        "# the sparse matrix to a dense array\n",
        "df = pd.DataFrame(data=word_matrix.toarray(), index=line_names,columns=feature_names)\n",
        "\n",
        "# The head() method is called on the resulting DataFrame to display the first few \n",
        "# rows of the matrix\n",
        "df.head()"
      ]
    },
    {
      "cell_type": "markdown",
      "metadata": {
        "id": "RhJtX0tfJpbH"
      },
      "source": [
        "# Exercise - Part 4.1 - Develop the text classification model for the traffic sentiment analysis"
      ]
    },
    {
      "cell_type": "markdown",
      "metadata": {
        "id": "Ak3x15ugDsFe"
      },
      "source": [
        "The following code is utilized for traffic sentiment analysis and employs the Pakistani Traffic Sentiment Analysis dataset as an illustrative example. This dataset comprises two columns: 'Text' and 'Sentiment.' The 'Text' column encompasses sentiments related to Pakistani traffic, encompassing both positive and negative reviews. The 'Sentiment' column is employed to categorize each sentiment, with positive reviews labeled as '0' and negative reviews as '1'.\n",
        "\n",
        "As discussed in the lecture, the sentiment analysis is modeled as a binary classification problem. The task will use the Logistic Regression as the classification model and guide you through the step-by-step process of the whole process of the model development for the traffic sentiment analysis.   "
      ]
    },
    {
      "cell_type": "markdown",
      "metadata": {
        "id": "ML9PdR8XDsFe"
      },
      "source": [
        "Load the dataset:"
      ]
    },
    {
      "cell_type": "code",
      "execution_count": 27,
      "metadata": {
        "colab": {
          "base_uri": "https://localhost:8080/",
          "height": 206
        },
        "id": "AfQiWf5WJd5_",
        "outputId": "88f5c4a1-639f-41f0-f6cf-be6309033e8a"
      },
      "outputs": [
        {
          "data": {
            "application/vnd.microsoft.datawrangler.viewer.v0+json": {
              "columns": [
                {
                  "name": "index",
                  "rawType": "int64",
                  "type": "integer"
                },
                {
                  "name": "Text",
                  "rawType": "object",
                  "type": "string"
                },
                {
                  "name": "Sentiment",
                  "rawType": "int64",
                  "type": "integer"
                }
              ],
              "ref": "af80fc66-e5a9-4436-b262-148cb36d39b3",
              "rows": [
                [
                  "0",
                  "Adayala road is clear",
                  "0"
                ],
                [
                  "1",
                  "Traffic jam from parbat rd to nazim-ud-din rd islamabad",
                  "1"
                ],
                [
                  "2",
                  "Mandra is clear",
                  "0"
                ],
                [
                  "3",
                  "Fort street is clear",
                  "0"
                ],
                [
                  "4",
                  "Mashriq Hotel towards Fawara Chowk, City Saddar Road  is closed for traffic",
                  "1"
                ]
              ],
              "shape": {
                "columns": 2,
                "rows": 5
              }
            },
            "text/html": [
              "<div>\n",
              "<style scoped>\n",
              "    .dataframe tbody tr th:only-of-type {\n",
              "        vertical-align: middle;\n",
              "    }\n",
              "\n",
              "    .dataframe tbody tr th {\n",
              "        vertical-align: top;\n",
              "    }\n",
              "\n",
              "    .dataframe thead th {\n",
              "        text-align: right;\n",
              "    }\n",
              "</style>\n",
              "<table border=\"1\" class=\"dataframe\">\n",
              "  <thead>\n",
              "    <tr style=\"text-align: right;\">\n",
              "      <th></th>\n",
              "      <th>Text</th>\n",
              "      <th>Sentiment</th>\n",
              "    </tr>\n",
              "  </thead>\n",
              "  <tbody>\n",
              "    <tr>\n",
              "      <th>0</th>\n",
              "      <td>Adayala road is clear</td>\n",
              "      <td>0</td>\n",
              "    </tr>\n",
              "    <tr>\n",
              "      <th>1</th>\n",
              "      <td>Traffic jam from parbat rd to nazim-ud-din rd ...</td>\n",
              "      <td>1</td>\n",
              "    </tr>\n",
              "    <tr>\n",
              "      <th>2</th>\n",
              "      <td>Mandra is clear</td>\n",
              "      <td>0</td>\n",
              "    </tr>\n",
              "    <tr>\n",
              "      <th>3</th>\n",
              "      <td>Fort street is clear</td>\n",
              "      <td>0</td>\n",
              "    </tr>\n",
              "    <tr>\n",
              "      <th>4</th>\n",
              "      <td>Mashriq Hotel towards Fawara Chowk, City Sadda...</td>\n",
              "      <td>1</td>\n",
              "    </tr>\n",
              "  </tbody>\n",
              "</table>\n",
              "</div>"
            ],
            "text/plain": [
              "                                                Text  Sentiment\n",
              "0                              Adayala road is clear          0\n",
              "1  Traffic jam from parbat rd to nazim-ud-din rd ...          1\n",
              "2                                    Mandra is clear          0\n",
              "3                               Fort street is clear          0\n",
              "4  Mashriq Hotel towards Fawara Chowk, City Sadda...          1"
            ]
          },
          "execution_count": 27,
          "metadata": {},
          "output_type": "execute_result"
        }
      ],
      "source": [
        "import pandas as pd\n",
        "import os\n",
        "\n",
        "# The path of the dataset\n",
        "url = 'https://raw.githubusercontent.com/zhenliangma/Applied-AI-in-Transportation/master/Exercise_4_Text_classification/Pakistani%20Traffic%20sentiment%20Analysis.csv'\n",
        "\n",
        "# Load the data use the pandas\n",
        "df = pd.read_csv(url)\n",
        "\n",
        "# Display the data\n",
        "df.head()"
      ]
    },
    {
      "cell_type": "markdown",
      "metadata": {
        "id": "VF5ejzBqKwsC"
      },
      "source": [
        "Using the wordcloud to visualize the dataset\n",
        "\n"
      ]
    },
    {
      "cell_type": "code",
      "execution_count": 28,
      "metadata": {
        "colab": {
          "base_uri": "https://localhost:8080/",
          "height": 285
        },
        "id": "wBlEtHj87rcL",
        "outputId": "ec7a4058-9679-4ccb-c3fd-245333c45175"
      },
      "outputs": [
        {
          "data": {
            "image/png": "[encoded data removed]",
            "text/plain": [
              "<Figure size 640x480 with 1 Axes>"
            ]
          },
          "metadata": {},
          "output_type": "display_data"
        }
      ],
      "source": [
        "from wordcloud import WordCloud\n",
        "import matplotlib.pyplot as plt\n",
        "text = df['Text'].values\n",
        "\n",
        "wordcloud = WordCloud().generate(str(text))\n",
        "\n",
        "plt.imshow(wordcloud)\n",
        "plt.axis(\"off\")\n",
        "plt.show()"
      ]
    },
    {
      "cell_type": "markdown",
      "metadata": {
        "id": "QAQmaPfQvRxC"
      },
      "source": [
        "Print a brief summary of the dataset"
      ]
    },
    {
      "cell_type": "code",
      "execution_count": 29,
      "metadata": {
        "colab": {
          "base_uri": "https://localhost:8080/"
        },
        "id": "UBLWDMJOJ4l9",
        "outputId": "c281ae52-7135-4732-bd36-ce57d1d12b0f"
      },
      "outputs": [
        {
          "name": "stdout",
          "output_type": "stream",
          "text": [
            "<class 'pandas.core.frame.DataFrame'>\n",
            "RangeIndex: 2109 entries, 0 to 2108\n",
            "Data columns (total 2 columns):\n",
            " #   Column     Non-Null Count  Dtype \n",
            "---  ------     --------------  ----- \n",
            " 0   Text       2109 non-null   object\n",
            " 1   Sentiment  2109 non-null   int64 \n",
            "dtypes: int64(1), object(1)\n",
            "memory usage: 33.1+ KB\n"
          ]
        }
      ],
      "source": [
        "df.info()"
      ]
    },
    {
      "cell_type": "markdown",
      "metadata": {
        "id": "fIHH-6oqKI9_"
      },
      "source": [
        "Use the following statement to see how many instances there are of each class (0 for positive and 1 for negative):"
      ]
    },
    {
      "cell_type": "code",
      "execution_count": 30,
      "metadata": {
        "colab": {
          "base_uri": "https://localhost:8080/",
          "height": 174
        },
        "id": "fVHhb1Y9KCyt",
        "outputId": "9698f967-81d4-4dd7-998e-ef3e815f96d2"
      },
      "outputs": [
        {
          "data": {
            "application/vnd.microsoft.datawrangler.viewer.v0+json": {
              "columns": [
                {
                  "name": "Sentiment",
                  "rawType": "int64",
                  "type": "integer"
                },
                {
                  "name": "('Text', 'count')",
                  "rawType": "object",
                  "type": "unknown"
                },
                {
                  "name": "('Text', 'unique')",
                  "rawType": "object",
                  "type": "unknown"
                },
                {
                  "name": "('Text', 'top')",
                  "rawType": "object",
                  "type": "string"
                },
                {
                  "name": "('Text', 'freq')",
                  "rawType": "object",
                  "type": "unknown"
                }
              ],
              "ref": "81c85734-1228-4553-87a3-5df55f339906",
              "rows": [
                [
                  "0",
                  "1010",
                  "1008",
                  "Traffic open at shahrah e faisal",
                  "2"
                ],
                [
                  "1",
                  "1099",
                  "1079",
                  "Road is closed for traffic at star gate towards city",
                  "3"
                ]
              ],
              "shape": {
                "columns": 4,
                "rows": 2
              }
            },
            "text/html": [
              "<div>\n",
              "<style scoped>\n",
              "    .dataframe tbody tr th:only-of-type {\n",
              "        vertical-align: middle;\n",
              "    }\n",
              "\n",
              "    .dataframe tbody tr th {\n",
              "        vertical-align: top;\n",
              "    }\n",
              "\n",
              "    .dataframe thead tr th {\n",
              "        text-align: left;\n",
              "    }\n",
              "\n",
              "    .dataframe thead tr:last-of-type th {\n",
              "        text-align: right;\n",
              "    }\n",
              "</style>\n",
              "<table border=\"1\" class=\"dataframe\">\n",
              "  <thead>\n",
              "    <tr>\n",
              "      <th></th>\n",
              "      <th colspan=\"4\" halign=\"left\">Text</th>\n",
              "    </tr>\n",
              "    <tr>\n",
              "      <th></th>\n",
              "      <th>count</th>\n",
              "      <th>unique</th>\n",
              "      <th>top</th>\n",
              "      <th>freq</th>\n",
              "    </tr>\n",
              "    <tr>\n",
              "      <th>Sentiment</th>\n",
              "      <th></th>\n",
              "      <th></th>\n",
              "      <th></th>\n",
              "      <th></th>\n",
              "    </tr>\n",
              "  </thead>\n",
              "  <tbody>\n",
              "    <tr>\n",
              "      <th>0</th>\n",
              "      <td>1010</td>\n",
              "      <td>1008</td>\n",
              "      <td>Traffic open at shahrah e faisal</td>\n",
              "      <td>2</td>\n",
              "    </tr>\n",
              "    <tr>\n",
              "      <th>1</th>\n",
              "      <td>1099</td>\n",
              "      <td>1079</td>\n",
              "      <td>Road is closed for traffic at star gate toward...</td>\n",
              "      <td>3</td>\n",
              "    </tr>\n",
              "  </tbody>\n",
              "</table>\n",
              "</div>"
            ],
            "text/plain": [
              "           Text                                                               \n",
              "          count unique                                                top freq\n",
              "Sentiment                                                                     \n",
              "0          1010   1008                   Traffic open at shahrah e faisal    2\n",
              "1          1099   1079  Road is closed for traffic at star gate toward...    3"
            ]
          },
          "execution_count": 30,
          "metadata": {},
          "output_type": "execute_result"
        }
      ],
      "source": [
        "# Displaying the instances of each class\n",
        "df.groupby('Sentiment').describe()"
      ]
    },
    {
      "cell_type": "markdown",
      "metadata": {
        "id": "KUQBRRP6KT19"
      },
      "source": [
        "There is an even number of positive and negative samples, but in each case, the number of unique samples is less than the number of samples for that class. That means the dataset has duplicate rows, and duplicate rows could bias a machine learning model. Use the following statements to delete the duplicate rows and check for balance again:"
      ]
    },
    {
      "cell_type": "code",
      "execution_count": 31,
      "metadata": {
        "colab": {
          "base_uri": "https://localhost:8080/",
          "height": 174
        },
        "id": "HVbOJxjWKNOF",
        "outputId": "f278ae7d-623d-4075-a26b-093c16f51a46"
      },
      "outputs": [
        {
          "data": {
            "application/vnd.microsoft.datawrangler.viewer.v0+json": {
              "columns": [
                {
                  "name": "Sentiment",
                  "rawType": "int64",
                  "type": "integer"
                },
                {
                  "name": "('Text', 'count')",
                  "rawType": "object",
                  "type": "unknown"
                },
                {
                  "name": "('Text', 'unique')",
                  "rawType": "object",
                  "type": "unknown"
                },
                {
                  "name": "('Text', 'top')",
                  "rawType": "object",
                  "type": "string"
                },
                {
                  "name": "('Text', 'freq')",
                  "rawType": "object",
                  "type": "unknown"
                }
              ],
              "ref": "f97862f4-b4ee-4e1c-b8f3-96fa439544a1",
              "rows": [
                [
                  "0",
                  "1008",
                  "1008",
                  "Adayala road is clear",
                  "1"
                ],
                [
                  "1",
                  "1079",
                  "1079",
                  "Traffic jam from parbat rd to nazim-ud-din rd islamabad",
                  "1"
                ]
              ],
              "shape": {
                "columns": 4,
                "rows": 2
              }
            },
            "text/html": [
              "<div>\n",
              "<style scoped>\n",
              "    .dataframe tbody tr th:only-of-type {\n",
              "        vertical-align: middle;\n",
              "    }\n",
              "\n",
              "    .dataframe tbody tr th {\n",
              "        vertical-align: top;\n",
              "    }\n",
              "\n",
              "    .dataframe thead tr th {\n",
              "        text-align: left;\n",
              "    }\n",
              "\n",
              "    .dataframe thead tr:last-of-type th {\n",
              "        text-align: right;\n",
              "    }\n",
              "</style>\n",
              "<table border=\"1\" class=\"dataframe\">\n",
              "  <thead>\n",
              "    <tr>\n",
              "      <th></th>\n",
              "      <th colspan=\"4\" halign=\"left\">Text</th>\n",
              "    </tr>\n",
              "    <tr>\n",
              "      <th></th>\n",
              "      <th>count</th>\n",
              "      <th>unique</th>\n",
              "      <th>top</th>\n",
              "      <th>freq</th>\n",
              "    </tr>\n",
              "    <tr>\n",
              "      <th>Sentiment</th>\n",
              "      <th></th>\n",
              "      <th></th>\n",
              "      <th></th>\n",
              "      <th></th>\n",
              "    </tr>\n",
              "  </thead>\n",
              "  <tbody>\n",
              "    <tr>\n",
              "      <th>0</th>\n",
              "      <td>1008</td>\n",
              "      <td>1008</td>\n",
              "      <td>Adayala road is clear</td>\n",
              "      <td>1</td>\n",
              "    </tr>\n",
              "    <tr>\n",
              "      <th>1</th>\n",
              "      <td>1079</td>\n",
              "      <td>1079</td>\n",
              "      <td>Traffic jam from parbat rd to nazim-ud-din rd ...</td>\n",
              "      <td>1</td>\n",
              "    </tr>\n",
              "  </tbody>\n",
              "</table>\n",
              "</div>"
            ],
            "text/plain": [
              "           Text                                                               \n",
              "          count unique                                                top freq\n",
              "Sentiment                                                                     \n",
              "0          1008   1008                              Adayala road is clear    1\n",
              "1          1079   1079  Traffic jam from parbat rd to nazim-ud-din rd ...    1"
            ]
          },
          "execution_count": 31,
          "metadata": {},
          "output_type": "execute_result"
        }
      ],
      "source": [
        "# Delete the duplicate rows\n",
        "df = df.drop_duplicates()\n",
        "\n",
        "# Displaying the instances of each class\n",
        "df.groupby('Sentiment').describe()"
      ]
    },
    {
      "cell_type": "markdown",
      "metadata": {
        "id": "JzZoGbwfKbet"
      },
      "source": [
        "Now there are no duplicate rows, and the number of positive and negative samples is roughly equal.\n",
        "\n",
        "Next, use CountVectorizer to prepare and vectorize the text in the Text column:"
      ]
    },
    {
      "cell_type": "code",
      "execution_count": 32,
      "metadata": {
        "id": "Zs4JUPApKWBF"
      },
      "outputs": [],
      "source": [
        "# Convert the text to vectorizer\n",
        "x = df['Text']\n",
        "\n",
        "# Obtain the label\n",
        "y = df['Sentiment']"
      ]
    },
    {
      "cell_type": "markdown",
      "metadata": {
        "id": "87hPPRRFKq-O"
      },
      "source": [
        "Now split the dataset for training and testing. We’ll use a 80/20 split since there are almost 2,000 samples in total:"
      ]
    },
    {
      "cell_type": "code",
      "execution_count": 33,
      "metadata": {
        "id": "yiVsNkZzKeVO"
      },
      "outputs": [],
      "source": [
        "from sklearn.model_selection import train_test_split\n",
        "\n",
        "# Splite the train and test data\n",
        "x_train, x_test, y_train, y_test = train_test_split(x, y, test_size=0.2, random_state=0)"
      ]
    },
    {
      "cell_type": "code",
      "execution_count": 34,
      "metadata": {},
      "outputs": [],
      "source": [
        "from sklearn.feature_extraction.text import CountVectorizer\n",
        "\n",
        "# Create the CountVectorizer instance, the ngram_range represents the length range \n",
        "# of phrase segmentation,the stop_words parameter is set to \"english\" to remove \n",
        "# common English stop words like \"and\", \"the\", and \"a\", min_df is to serve as a \n",
        "# threshold to delete some words which have a frequency lower then min_df.\n",
        "vectorizer = CountVectorizer(ngram_range=(1, 2), stop_words='english', min_df=20)\n",
        "\n",
        "x_train_vectorized = vectorizer.fit_transform(x_train)\n",
        "x_test_vectorized = vectorizer.transform(x_test)"
      ]
    },
    {
      "cell_type": "markdown",
      "metadata": {
        "id": "9psADrv9Kx50"
      },
      "source": [
        "The next step is to train a classifier. We’ll use Scikit’s LogisticRegression class, which uses logistic regression to fit a model to the data:"
      ]
    },
    {
      "cell_type": "code",
      "execution_count": 35,
      "metadata": {
        "colab": {
          "base_uri": "https://localhost:8080/",
          "height": 74
        },
        "id": "qDXGS3S4KvAc",
        "outputId": "8f3d2c3e-4358-471a-af52-1afd670990f3"
      },
      "outputs": [
        {
          "data": {
            "text/html": [
              "<style>#sk-container-id-2 {\n",
              "  /* Definition of color scheme common for light and dark mode */\n",
              "  --sklearn-color-text: #000;\n",
              "  --sklearn-color-text-muted: #666;\n",
              "  --sklearn-color-line: gray;\n",
              "  /* Definition of color scheme for unfitted estimators */\n",
              "  --sklearn-color-unfitted-level-0: #fff5e6;\n",
              "  --sklearn-color-unfitted-level-1: #f6e4d2;\n",
              "  --sklearn-color-unfitted-level-2: #ffe0b3;\n",
              "  --sklearn-color-unfitted-level-3: chocolate;\n",
              "  /* Definition of color scheme for fitted estimators */\n",
              "  --sklearn-color-fitted-level-0: #f0f8ff;\n",
              "  --sklearn-color-fitted-level-1: #d4ebff;\n",
              "  --sklearn-color-fitted-level-2: #b3dbfd;\n",
              "  --sklearn-color-fitted-level-3: cornflowerblue;\n",
              "\n",
              "  /* Specific color for light theme */\n",
              "  --sklearn-color-text-on-default-background: var(--sg-text-color, var(--theme-code-foreground, var(--jp-content-font-color1, black)));\n",
              "  --sklearn-color-background: var(--sg-background-color, var(--theme-background, var(--jp-layout-color0, white)));\n",
              "  --sklearn-color-border-box: var(--sg-text-color, var(--theme-code-foreground, var(--jp-content-font-color1, black)));\n",
              "  --sklearn-color-icon: #696969;\n",
              "\n",
              "  @media (prefers-color-scheme: dark) {\n",
              "    /* Redefinition of color scheme for dark theme */\n",
              "    --sklearn-color-text-on-default-background: var(--sg-text-color, var(--theme-code-foreground, var(--jp-content-font-color1, white)));\n",
              "    --sklearn-color-background: var(--sg-background-color, var(--theme-background, var(--jp-layout-color0, #111)));\n",
              "    --sklearn-color-border-box: var(--sg-text-color, var(--theme-code-foreground, var(--jp-content-font-color1, white)));\n",
              "    --sklearn-color-icon: #878787;\n",
              "  }\n",
              "}\n",
              "\n",
              "#sk-container-id-2 {\n",
              "  color: var(--sklearn-color-text);\n",
              "}\n",
              "\n",
              "#sk-container-id-2 pre {\n",
              "  padding: 0;\n",
              "}\n",
              "\n",
              "#sk-container-id-2 input.sk-hidden--visually {\n",
              "  border: 0;\n",
              "  clip: rect(1px 1px 1px 1px);\n",
              "  clip: rect(1px, 1px, 1px, 1px);\n",
              "  height: 1px;\n",
              "  margin: -1px;\n",
              "  overflow: hidden;\n",
              "  padding: 0;\n",
              "  position: absolute;\n",
              "  width: 1px;\n",
              "}\n",
              "\n",
              "#sk-container-id-2 div.sk-dashed-wrapped {\n",
              "  border: 1px dashed var(--sklearn-color-line);\n",
              "  margin: 0 0.4em 0.5em 0.4em;\n",
              "  box-sizing: border-box;\n",
              "  padding-bottom: 0.4em;\n",
              "  background-color: var(--sklearn-color-background);\n",
              "}\n",
              "\n",
              "#sk-container-id-2 div.sk-container {\n",
              "  /* jupyter's `normalize.less` sets `[hidden] { display: none; }`\n",
              "     but bootstrap.min.css set `[hidden] { display: none !important; }`\n",
              "     so we also need the `!important` here to be able to override the\n",
              "     default hidden behavior on the sphinx rendered scikit-learn.org.\n",
              "     See: https://github.com/scikit-learn/scikit-learn/issues/21755 */\n",
              "  display: inline-block !important;\n",
              "  position: relative;\n",
              "}\n",
              "\n",
              "#sk-container-id-2 div.sk-text-repr-fallback {\n",
              "  display: none;\n",
              "}\n",
              "\n",
              "div.sk-parallel-item,\n",
              "div.sk-serial,\n",
              "div.sk-item {\n",
              "  /* draw centered vertical line to link estimators */\n",
              "  background-image: linear-gradient(var(--sklearn-color-text-on-default-background), var(--sklearn-color-text-on-default-background));\n",
              "  background-size: 2px 100%;\n",
              "  background-repeat: no-repeat;\n",
              "  background-position: center center;\n",
              "}\n",
              "\n",
              "/* Parallel-specific style estimator block */\n",
              "\n",
              "#sk-container-id-2 div.sk-parallel-item::after {\n",
              "  content: \"\";\n",
              "  width: 100%;\n",
              "  border-bottom: 2px solid var(--sklearn-color-text-on-default-background);\n",
              "  flex-grow: 1;\n",
              "}\n",
              "\n",
              "#sk-container-id-2 div.sk-parallel {\n",
              "  display: flex;\n",
              "  align-items: stretch;\n",
              "  justify-content: center;\n",
              "  background-color: var(--sklearn-color-background);\n",
              "  position: relative;\n",
              "}\n",
              "\n",
              "#sk-container-id-2 div.sk-parallel-item {\n",
              "  display: flex;\n",
              "  flex-direction: column;\n",
              "}\n",
              "\n",
              "#sk-container-id-2 div.sk-parallel-item:first-child::after {\n",
              "  align-self: flex-end;\n",
              "  width: 50%;\n",
              "}\n",
              "\n",
              "#sk-container-id-2 div.sk-parallel-item:last-child::after {\n",
              "  align-self: flex-start;\n",
              "  width: 50%;\n",
              "}\n",
              "\n",
              "#sk-container-id-2 div.sk-parallel-item:only-child::after {\n",
              "  width: 0;\n",
              "}\n",
              "\n",
              "/* Serial-specific style estimator block */\n",
              "\n",
              "#sk-container-id-2 div.sk-serial {\n",
              "  display: flex;\n",
              "  flex-direction: column;\n",
              "  align-items: center;\n",
              "  background-color: var(--sklearn-color-background);\n",
              "  padding-right: 1em;\n",
              "  padding-left: 1em;\n",
              "}\n",
              "\n",
              "\n",
              "/* Toggleable style: style used for estimator/Pipeline/ColumnTransformer box that is\n",
              "clickable and can be expanded/collapsed.\n",
              "- Pipeline and ColumnTransformer use this feature and define the default style\n",
              "- Estimators will overwrite some part of the style using the `sk-estimator` class\n",
              "*/\n",
              "\n",
              "/* Pipeline and ColumnTransformer style (default) */\n",
              "\n",
              "#sk-container-id-2 div.sk-toggleable {\n",
              "  /* Default theme specific background. It is overwritten whether we have a\n",
              "  specific estimator or a Pipeline/ColumnTransformer */\n",
              "  background-color: var(--sklearn-color-background);\n",
              "}\n",
              "\n",
              "/* Toggleable label */\n",
              "#sk-container-id-2 label.sk-toggleable__label {\n",
              "  cursor: pointer;\n",
              "  display: flex;\n",
              "  width: 100%;\n",
              "  margin-bottom: 0;\n",
              "  padding: 0.5em;\n",
              "  box-sizing: border-box;\n",
              "  text-align: center;\n",
              "  align-items: start;\n",
              "  justify-content: space-between;\n",
              "  gap: 0.5em;\n",
              "}\n",
              "\n",
              "#sk-container-id-2 label.sk-toggleable__label .caption {\n",
              "  font-size: 0.6rem;\n",
              "  font-weight: lighter;\n",
              "  color: var(--sklearn-color-text-muted);\n",
              "}\n",
              "\n",
              "#sk-container-id-2 label.sk-toggleable__label-arrow:before {\n",
              "  /* Arrow on the left of the label */\n",
              "  content: \"▸\";\n",
              "  float: left;\n",
              "  margin-right: 0.25em;\n",
              "  color: var(--sklearn-color-icon);\n",
              "}\n",
              "\n",
              "#sk-container-id-2 label.sk-toggleable__label-arrow:hover:before {\n",
              "  color: var(--sklearn-color-text);\n",
              "}\n",
              "\n",
              "/* Toggleable content - dropdown */\n",
              "\n",
              "#sk-container-id-2 div.sk-toggleable__content {\n",
              "  display: none;\n",
              "  text-align: left;\n",
              "  /* unfitted */\n",
              "  background-color: var(--sklearn-color-unfitted-level-0);\n",
              "}\n",
              "\n",
              "#sk-container-id-2 div.sk-toggleable__content.fitted {\n",
              "  /* fitted */\n",
              "  background-color: var(--sklearn-color-fitted-level-0);\n",
              "}\n",
              "\n",
              "#sk-container-id-2 div.sk-toggleable__content pre {\n",
              "  margin: 0.2em;\n",
              "  border-radius: 0.25em;\n",
              "  color: var(--sklearn-color-text);\n",
              "  /* unfitted */\n",
              "  background-color: var(--sklearn-color-unfitted-level-0);\n",
              "}\n",
              "\n",
              "#sk-container-id-2 div.sk-toggleable__content.fitted pre {\n",
              "  /* unfitted */\n",
              "  background-color: var(--sklearn-color-fitted-level-0);\n",
              "}\n",
              "\n",
              "#sk-container-id-2 input.sk-toggleable__control:checked~div.sk-toggleable__content {\n",
              "  /* Expand drop-down */\n",
              "  display: block;\n",
              "  width: 100%;\n",
              "  overflow: visible;\n",
              "}\n",
              "\n",
              "#sk-container-id-2 input.sk-toggleable__control:checked~label.sk-toggleable__label-arrow:before {\n",
              "  content: \"▾\";\n",
              "}\n",
              "\n",
              "/* Pipeline/ColumnTransformer-specific style */\n",
              "\n",
              "#sk-container-id-2 div.sk-label input.sk-toggleable__control:checked~label.sk-toggleable__label {\n",
              "  color: var(--sklearn-color-text);\n",
              "  background-color: var(--sklearn-color-unfitted-level-2);\n",
              "}\n",
              "\n",
              "#sk-container-id-2 div.sk-label.fitted input.sk-toggleable__control:checked~label.sk-toggleable__label {\n",
              "  background-color: var(--sklearn-color-fitted-level-2);\n",
              "}\n",
              "\n",
              "/* Estimator-specific style */\n",
              "\n",
              "/* Colorize estimator box */\n",
              "#sk-container-id-2 div.sk-estimator input.sk-toggleable__control:checked~label.sk-toggleable__label {\n",
              "  /* unfitted */\n",
              "  background-color: var(--sklearn-color-unfitted-level-2);\n",
              "}\n",
              "\n",
              "#sk-container-id-2 div.sk-estimator.fitted input.sk-toggleable__control:checked~label.sk-toggleable__label {\n",
              "  /* fitted */\n",
              "  background-color: var(--sklearn-color-fitted-level-2);\n",
              "}\n",
              "\n",
              "#sk-container-id-2 div.sk-label label.sk-toggleable__label,\n",
              "#sk-container-id-2 div.sk-label label {\n",
              "  /* The background is the default theme color */\n",
              "  color: var(--sklearn-color-text-on-default-background);\n",
              "}\n",
              "\n",
              "/* On hover, darken the color of the background */\n",
              "#sk-container-id-2 div.sk-label:hover label.sk-toggleable__label {\n",
              "  color: var(--sklearn-color-text);\n",
              "  background-color: var(--sklearn-color-unfitted-level-2);\n",
              "}\n",
              "\n",
              "/* Label box, darken color on hover, fitted */\n",
              "#sk-container-id-2 div.sk-label.fitted:hover label.sk-toggleable__label.fitted {\n",
              "  color: var(--sklearn-color-text);\n",
              "  background-color: var(--sklearn-color-fitted-level-2);\n",
              "}\n",
              "\n",
              "/* Estimator label */\n",
              "\n",
              "#sk-container-id-2 div.sk-label label {\n",
              "  font-family: monospace;\n",
              "  font-weight: bold;\n",
              "  display: inline-block;\n",
              "  line-height: 1.2em;\n",
              "}\n",
              "\n",
              "#sk-container-id-2 div.sk-label-container {\n",
              "  text-align: center;\n",
              "}\n",
              "\n",
              "/* Estimator-specific */\n",
              "#sk-container-id-2 div.sk-estimator {\n",
              "  font-family: monospace;\n",
              "  border: 1px dotted var(--sklearn-color-border-box);\n",
              "  border-radius: 0.25em;\n",
              "  box-sizing: border-box;\n",
              "  margin-bottom: 0.5em;\n",
              "  /* unfitted */\n",
              "  background-color: var(--sklearn-color-unfitted-level-0);\n",
              "}\n",
              "\n",
              "#sk-container-id-2 div.sk-estimator.fitted {\n",
              "  /* fitted */\n",
              "  background-color: var(--sklearn-color-fitted-level-0);\n",
              "}\n",
              "\n",
              "/* on hover */\n",
              "#sk-container-id-2 div.sk-estimator:hover {\n",
              "  /* unfitted */\n",
              "  background-color: var(--sklearn-color-unfitted-level-2);\n",
              "}\n",
              "\n",
              "#sk-container-id-2 div.sk-estimator.fitted:hover {\n",
              "  /* fitted */\n",
              "  background-color: var(--sklearn-color-fitted-level-2);\n",
              "}\n",
              "\n",
              "/* Specification for estimator info (e.g. \"i\" and \"?\") */\n",
              "\n",
              "/* Common style for \"i\" and \"?\" */\n",
              "\n",
              ".sk-estimator-doc-link,\n",
              "a:link.sk-estimator-doc-link,\n",
              "a:visited.sk-estimator-doc-link {\n",
              "  float: right;\n",
              "  font-size: smaller;\n",
              "  line-height: 1em;\n",
              "  font-family: monospace;\n",
              "  background-color: var(--sklearn-color-background);\n",
              "  border-radius: 1em;\n",
              "  height: 1em;\n",
              "  width: 1em;\n",
              "  text-decoration: none !important;\n",
              "  margin-left: 0.5em;\n",
              "  text-align: center;\n",
              "  /* unfitted */\n",
              "  border: var(--sklearn-color-unfitted-level-1) 1pt solid;\n",
              "  color: var(--sklearn-color-unfitted-level-1);\n",
              "}\n",
              "\n",
              ".sk-estimator-doc-link.fitted,\n",
              "a:link.sk-estimator-doc-link.fitted,\n",
              "a:visited.sk-estimator-doc-link.fitted {\n",
              "  /* fitted */\n",
              "  border: var(--sklearn-color-fitted-level-1) 1pt solid;\n",
              "  color: var(--sklearn-color-fitted-level-1);\n",
              "}\n",
              "\n",
              "/* On hover */\n",
              "div.sk-estimator:hover .sk-estimator-doc-link:hover,\n",
              ".sk-estimator-doc-link:hover,\n",
              "div.sk-label-container:hover .sk-estimator-doc-link:hover,\n",
              ".sk-estimator-doc-link:hover {\n",
              "  /* unfitted */\n",
              "  background-color: var(--sklearn-color-unfitted-level-3);\n",
              "  color: var(--sklearn-color-background);\n",
              "  text-decoration: none;\n",
              "}\n",
              "\n",
              "div.sk-estimator.fitted:hover .sk-estimator-doc-link.fitted:hover,\n",
              ".sk-estimator-doc-link.fitted:hover,\n",
              "div.sk-label-container:hover .sk-estimator-doc-link.fitted:hover,\n",
              ".sk-estimator-doc-link.fitted:hover {\n",
              "  /* fitted */\n",
              "  background-color: var(--sklearn-color-fitted-level-3);\n",
              "  color: var(--sklearn-color-background);\n",
              "  text-decoration: none;\n",
              "}\n",
              "\n",
              "/* Span, style for the box shown on hovering the info icon */\n",
              ".sk-estimator-doc-link span {\n",
              "  display: none;\n",
              "  z-index: 9999;\n",
              "  position: relative;\n",
              "  font-weight: normal;\n",
              "  right: .2ex;\n",
              "  padding: .5ex;\n",
              "  margin: .5ex;\n",
              "  width: min-content;\n",
              "  min-width: 20ex;\n",
              "  max-width: 50ex;\n",
              "  color: var(--sklearn-color-text);\n",
              "  box-shadow: 2pt 2pt 4pt #999;\n",
              "  /* unfitted */\n",
              "  background: var(--sklearn-color-unfitted-level-0);\n",
              "  border: .5pt solid var(--sklearn-color-unfitted-level-3);\n",
              "}\n",
              "\n",
              ".sk-estimator-doc-link.fitted span {\n",
              "  /* fitted */\n",
              "  background: var(--sklearn-color-fitted-level-0);\n",
              "  border: var(--sklearn-color-fitted-level-3);\n",
              "}\n",
              "\n",
              ".sk-estimator-doc-link:hover span {\n",
              "  display: block;\n",
              "}\n",
              "\n",
              "/* \"?\"-specific style due to the `<a>` HTML tag */\n",
              "\n",
              "#sk-container-id-2 a.estimator_doc_link {\n",
              "  float: right;\n",
              "  font-size: 1rem;\n",
              "  line-height: 1em;\n",
              "  font-family: monospace;\n",
              "  background-color: var(--sklearn-color-background);\n",
              "  border-radius: 1rem;\n",
              "  height: 1rem;\n",
              "  width: 1rem;\n",
              "  text-decoration: none;\n",
              "  /* unfitted */\n",
              "  color: var(--sklearn-color-unfitted-level-1);\n",
              "  border: var(--sklearn-color-unfitted-level-1) 1pt solid;\n",
              "}\n",
              "\n",
              "#sk-container-id-2 a.estimator_doc_link.fitted {\n",
              "  /* fitted */\n",
              "  border: var(--sklearn-color-fitted-level-1) 1pt solid;\n",
              "  color: var(--sklearn-color-fitted-level-1);\n",
              "}\n",
              "\n",
              "/* On hover */\n",
              "#sk-container-id-2 a.estimator_doc_link:hover {\n",
              "  /* unfitted */\n",
              "  background-color: var(--sklearn-color-unfitted-level-3);\n",
              "  color: var(--sklearn-color-background);\n",
              "  text-decoration: none;\n",
              "}\n",
              "\n",
              "#sk-container-id-2 a.estimator_doc_link.fitted:hover {\n",
              "  /* fitted */\n",
              "  background-color: var(--sklearn-color-fitted-level-3);\n",
              "}\n",
              "\n",
              ".estimator-table summary {\n",
              "    padding: .5rem;\n",
              "    font-family: monospace;\n",
              "    cursor: pointer;\n",
              "}\n",
              "\n",
              ".estimator-table details[open] {\n",
              "    padding-left: 0.1rem;\n",
              "    padding-right: 0.1rem;\n",
              "    padding-bottom: 0.3rem;\n",
              "}\n",
              "\n",
              ".estimator-table .parameters-table {\n",
              "    margin-left: auto !important;\n",
              "    margin-right: auto !important;\n",
              "}\n",
              "\n",
              ".estimator-table .parameters-table tr:nth-child(odd) {\n",
              "    background-color: #fff;\n",
              "}\n",
              "\n",
              ".estimator-table .parameters-table tr:nth-child(even) {\n",
              "    background-color: #f6f6f6;\n",
              "}\n",
              "\n",
              ".estimator-table .parameters-table tr:hover {\n",
              "    background-color: #e0e0e0;\n",
              "}\n",
              "\n",
              ".estimator-table table td {\n",
              "    border: 1px solid rgba(106, 105, 104, 0.232);\n",
              "}\n",
              "\n",
              ".user-set td {\n",
              "    color:rgb(255, 94, 0);\n",
              "    text-align: left;\n",
              "}\n",
              "\n",
              ".user-set td.value pre {\n",
              "    color:rgb(255, 94, 0) !important;\n",
              "    background-color: transparent !important;\n",
              "}\n",
              "\n",
              ".default td {\n",
              "    color: black;\n",
              "    text-align: left;\n",
              "}\n",
              "\n",
              ".user-set td i,\n",
              ".default td i {\n",
              "    color: black;\n",
              "}\n",
              "\n",
              ".copy-paste-icon {\n",
              "    background-image: url(data:image/svg+xml;base64,PHN2ZyB4bWxucz0iaHR0cDovL3d3dy53My5vcmcvMjAwMC9zdmciIHZpZXdCb3g9IjAgMCA0NDggNTEyIj48IS0tIUZvbnQgQXdlc29tZSBGcmVlIDYuNy4yIGJ5IEBmb250YXdlc29tZSAtIGh0dHBzOi8vZm9udGF3ZXNvbWUuY29tIExpY2Vuc2UgLSBodHRwczovL2ZvbnRhd2Vzb21lLmNvbS9saWNlbnNlL2ZyZWUgQ29weXJpZ2h0IDIwMjUgRm9udGljb25zLCBJbmMuLS0+PHBhdGggZD0iTTIwOCAwTDMzMi4xIDBjMTIuNyAwIDI0LjkgNS4xIDMzLjkgMTQuMWw2Ny45IDY3LjljOSA5IDE0LjEgMjEuMiAxNC4xIDMzLjlMNDQ4IDMzNmMwIDI2LjUtMjEuNSA0OC00OCA0OGwtMTkyIDBjLTI2LjUgMC00OC0yMS41LTQ4LTQ4bDAtMjg4YzAtMjYuNSAyMS41LTQ4IDQ4LTQ4ek00OCAxMjhsODAgMCAwIDY0LTY0IDAgMCAyNTYgMTkyIDAgMC0zMiA2NCAwIDAgNDhjMCAyNi41LTIxLjUgNDgtNDggNDhMNDggNTEyYy0yNi41IDAtNDgtMjEuNS00OC00OEwwIDE3NmMwLTI2LjUgMjEuNS00OCA0OC00OHoiLz48L3N2Zz4=);\n",
              "    background-repeat: no-repeat;\n",
              "    background-size: 14px 14px;\n",
              "    background-position: 0;\n",
              "    display: inline-block;\n",
              "    width: 14px;\n",
              "    height: 14px;\n",
              "    cursor: pointer;\n",
              "}\n",
              "</style><body><div id=\"sk-container-id-2\" class=\"sk-top-container\"><div class=\"sk-text-repr-fallback\"><pre>LogisticRegression(max_iter=1000, random_state=0)</pre><b>In a Jupyter environment, please rerun this cell to show the HTML representation or trust the notebook. <br />On GitHub, the HTML representation is unable to render, please try loading this page with nbviewer.org.</b></div><div class=\"sk-container\" hidden><div class=\"sk-item\"><div class=\"sk-estimator fitted sk-toggleable\"><input class=\"sk-toggleable__control sk-hidden--visually\" id=\"sk-estimator-id-2\" type=\"checkbox\" checked><label for=\"sk-estimator-id-2\" class=\"sk-toggleable__label fitted sk-toggleable__label-arrow\"><div><div>LogisticRegression</div></div><div><a class=\"sk-estimator-doc-link fitted\" rel=\"noreferrer\" target=\"_blank\" href=\"https://scikit-learn.org/1.7/modules/generated/sklearn.linear_model.LogisticRegression.html\">?<span>Documentation for LogisticRegression</span></a><span class=\"sk-estimator-doc-link fitted\">i<span>Fitted</span></span></div></label><div class=\"sk-toggleable__content fitted\" data-param-prefix=\"\">\n",
              "        <div class=\"estimator-table\">\n",
              "            <details>\n",
              "                <summary>Parameters</summary>\n",
              "                <table class=\"parameters-table\">\n",
              "                  <tbody>\n",
              "                    \n",
              "        <tr class=\"default\">\n",
              "            <td><i class=\"copy-paste-icon\"\n",
              "                 onclick=\"copyToClipboard('penalty',\n",
              "                          this.parentElement.nextElementSibling)\"\n",
              "            ></i></td>\n",
              "            <td class=\"param\">penalty&nbsp;</td>\n",
              "            <td class=\"value\">&#x27;l2&#x27;</td>\n",
              "        </tr>\n",
              "    \n",
              "\n",
              "        <tr class=\"default\">\n",
              "            <td><i class=\"copy-paste-icon\"\n",
              "                 onclick=\"copyToClipboard('dual',\n",
              "                          this.parentElement.nextElementSibling)\"\n",
              "            ></i></td>\n",
              "            <td class=\"param\">dual&nbsp;</td>\n",
              "            <td class=\"value\">False</td>\n",
              "        </tr>\n",
              "    \n",
              "\n",
              "        <tr class=\"default\">\n",
              "            <td><i class=\"copy-paste-icon\"\n",
              "                 onclick=\"copyToClipboard('tol',\n",
              "                          this.parentElement.nextElementSibling)\"\n",
              "            ></i></td>\n",
              "            <td class=\"param\">tol&nbsp;</td>\n",
              "            <td class=\"value\">0.0001</td>\n",
              "        </tr>\n",
              "    \n",
              "\n",
              "        <tr class=\"default\">\n",
              "            <td><i class=\"copy-paste-icon\"\n",
              "                 onclick=\"copyToClipboard('C',\n",
              "                          this.parentElement.nextElementSibling)\"\n",
              "            ></i></td>\n",
              "            <td class=\"param\">C&nbsp;</td>\n",
              "            <td class=\"value\">1.0</td>\n",
              "        </tr>\n",
              "    \n",
              "\n",
              "        <tr class=\"default\">\n",
              "            <td><i class=\"copy-paste-icon\"\n",
              "                 onclick=\"copyToClipboard('fit_intercept',\n",
              "                          this.parentElement.nextElementSibling)\"\n",
              "            ></i></td>\n",
              "            <td class=\"param\">fit_intercept&nbsp;</td>\n",
              "            <td class=\"value\">True</td>\n",
              "        </tr>\n",
              "    \n",
              "\n",
              "        <tr class=\"default\">\n",
              "            <td><i class=\"copy-paste-icon\"\n",
              "                 onclick=\"copyToClipboard('intercept_scaling',\n",
              "                          this.parentElement.nextElementSibling)\"\n",
              "            ></i></td>\n",
              "            <td class=\"param\">intercept_scaling&nbsp;</td>\n",
              "            <td class=\"value\">1</td>\n",
              "        </tr>\n",
              "    \n",
              "\n",
              "        <tr class=\"default\">\n",
              "            <td><i class=\"copy-paste-icon\"\n",
              "                 onclick=\"copyToClipboard('class_weight',\n",
              "                          this.parentElement.nextElementSibling)\"\n",
              "            ></i></td>\n",
              "            <td class=\"param\">class_weight&nbsp;</td>\n",
              "            <td class=\"value\">None</td>\n",
              "        </tr>\n",
              "    \n",
              "\n",
              "        <tr class=\"user-set\">\n",
              "            <td><i class=\"copy-paste-icon\"\n",
              "                 onclick=\"copyToClipboard('random_state',\n",
              "                          this.parentElement.nextElementSibling)\"\n",
              "            ></i></td>\n",
              "            <td class=\"param\">random_state&nbsp;</td>\n",
              "            <td class=\"value\">0</td>\n",
              "        </tr>\n",
              "    \n",
              "\n",
              "        <tr class=\"default\">\n",
              "            <td><i class=\"copy-paste-icon\"\n",
              "                 onclick=\"copyToClipboard('solver',\n",
              "                          this.parentElement.nextElementSibling)\"\n",
              "            ></i></td>\n",
              "            <td class=\"param\">solver&nbsp;</td>\n",
              "            <td class=\"value\">&#x27;lbfgs&#x27;</td>\n",
              "        </tr>\n",
              "    \n",
              "\n",
              "        <tr class=\"user-set\">\n",
              "            <td><i class=\"copy-paste-icon\"\n",
              "                 onclick=\"copyToClipboard('max_iter',\n",
              "                          this.parentElement.nextElementSibling)\"\n",
              "            ></i></td>\n",
              "            <td class=\"param\">max_iter&nbsp;</td>\n",
              "            <td class=\"value\">1000</td>\n",
              "        </tr>\n",
              "    \n",
              "\n",
              "        <tr class=\"default\">\n",
              "            <td><i class=\"copy-paste-icon\"\n",
              "                 onclick=\"copyToClipboard('multi_class',\n",
              "                          this.parentElement.nextElementSibling)\"\n",
              "            ></i></td>\n",
              "            <td class=\"param\">multi_class&nbsp;</td>\n",
              "            <td class=\"value\">&#x27;deprecated&#x27;</td>\n",
              "        </tr>\n",
              "    \n",
              "\n",
              "        <tr class=\"default\">\n",
              "            <td><i class=\"copy-paste-icon\"\n",
              "                 onclick=\"copyToClipboard('verbose',\n",
              "                          this.parentElement.nextElementSibling)\"\n",
              "            ></i></td>\n",
              "            <td class=\"param\">verbose&nbsp;</td>\n",
              "            <td class=\"value\">0</td>\n",
              "        </tr>\n",
              "    \n",
              "\n",
              "        <tr class=\"default\">\n",
              "            <td><i class=\"copy-paste-icon\"\n",
              "                 onclick=\"copyToClipboard('warm_start',\n",
              "                          this.parentElement.nextElementSibling)\"\n",
              "            ></i></td>\n",
              "            <td class=\"param\">warm_start&nbsp;</td>\n",
              "            <td class=\"value\">False</td>\n",
              "        </tr>\n",
              "    \n",
              "\n",
              "        <tr class=\"default\">\n",
              "            <td><i class=\"copy-paste-icon\"\n",
              "                 onclick=\"copyToClipboard('n_jobs',\n",
              "                          this.parentElement.nextElementSibling)\"\n",
              "            ></i></td>\n",
              "            <td class=\"param\">n_jobs&nbsp;</td>\n",
              "            <td class=\"value\">None</td>\n",
              "        </tr>\n",
              "    \n",
              "\n",
              "        <tr class=\"default\">\n",
              "            <td><i class=\"copy-paste-icon\"\n",
              "                 onclick=\"copyToClipboard('l1_ratio',\n",
              "                          this.parentElement.nextElementSibling)\"\n",
              "            ></i></td>\n",
              "            <td class=\"param\">l1_ratio&nbsp;</td>\n",
              "            <td class=\"value\">None</td>\n",
              "        </tr>\n",
              "    \n",
              "                  </tbody>\n",
              "                </table>\n",
              "            </details>\n",
              "        </div>\n",
              "    </div></div></div></div></div><script>function copyToClipboard(text, element) {\n",
              "    // Get the parameter prefix from the closest toggleable content\n",
              "    const toggleableContent = element.closest('.sk-toggleable__content');\n",
              "    const paramPrefix = toggleableContent ? toggleableContent.dataset.paramPrefix : '';\n",
              "    const fullParamName = paramPrefix ? `${paramPrefix}${text}` : text;\n",
              "\n",
              "    const originalStyle = element.style;\n",
              "    const computedStyle = window.getComputedStyle(element);\n",
              "    const originalWidth = computedStyle.width;\n",
              "    const originalHTML = element.innerHTML.replace('Copied!', '');\n",
              "\n",
              "    navigator.clipboard.writeText(fullParamName)\n",
              "        .then(() => {\n",
              "            element.style.width = originalWidth;\n",
              "            element.style.color = 'green';\n",
              "            element.innerHTML = \"Copied!\";\n",
              "\n",
              "            setTimeout(() => {\n",
              "                element.innerHTML = originalHTML;\n",
              "                element.style = originalStyle;\n",
              "            }, 2000);\n",
              "        })\n",
              "        .catch(err => {\n",
              "            console.error('Failed to copy:', err);\n",
              "            element.style.color = 'red';\n",
              "            element.innerHTML = \"Failed!\";\n",
              "            setTimeout(() => {\n",
              "                element.innerHTML = originalHTML;\n",
              "                element.style = originalStyle;\n",
              "            }, 2000);\n",
              "        });\n",
              "    return false;\n",
              "}\n",
              "\n",
              "document.querySelectorAll('.fa-regular.fa-copy').forEach(function(element) {\n",
              "    const toggleableContent = element.closest('.sk-toggleable__content');\n",
              "    const paramPrefix = toggleableContent ? toggleableContent.dataset.paramPrefix : '';\n",
              "    const paramName = element.parentElement.nextElementSibling.textContent.trim();\n",
              "    const fullParamName = paramPrefix ? `${paramPrefix}${paramName}` : paramName;\n",
              "\n",
              "    element.setAttribute('title', fullParamName);\n",
              "});\n",
              "</script></body>"
            ],
            "text/plain": [
              "LogisticRegression(max_iter=1000, random_state=0)"
            ]
          },
          "execution_count": 35,
          "metadata": {},
          "output_type": "execute_result"
        }
      ],
      "source": [
        "from sklearn.linear_model import LogisticRegression\n",
        "\n",
        "# Creat the model, max_iter controls the maximum number of iterations, \n",
        "# random_state provides a seed for the random number generator\n",
        "model = LogisticRegression(max_iter=1000, random_state=0)\n",
        "\n",
        "# Trains the logistic regression model using the training data.\n",
        "model.fit(x_train_vectorized, y_train)"
      ]
    },
    {
      "cell_type": "markdown",
      "metadata": {
        "id": "GLxnBB6eK4yc"
      },
      "source": [
        "Validate the trained model with the 20% of the dataset set aside for testing and show the results in a confusion matrix and accuracy:"
      ]
    },
    {
      "cell_type": "code",
      "execution_count": 36,
      "metadata": {
        "colab": {
          "base_uri": "https://localhost:8080/",
          "height": 467
        },
        "id": "6bQNI1UYKz30",
        "outputId": "0403d2f7-725e-4729-a025-6923521d9340"
      },
      "outputs": [
        {
          "name": "stdout",
          "output_type": "stream",
          "text": [
            "The accuracy of the model is: 0.937799043062201\n"
          ]
        },
        {
          "data": {
            "image/png": "[encoded data removed]",
            "text/plain": [
              "<Figure size 640x480 with 2 Axes>"
            ]
          },
          "metadata": {},
          "output_type": "display_data"
        }
      ],
      "source": [
        "%matplotlib inline\n",
        "from sklearn.metrics import ConfusionMatrixDisplay as cmd\n",
        "from sklearn.metrics import accuracy_score\n",
        "\n",
        "# Show the results in a confusion matrix\n",
        "cmd.from_estimator(model, x_test_vectorized, y_test, display_labels=['Positive','Negative'], cmap='Blues')\n",
        "\n",
        "# Calculate accuracy\n",
        "print('The accuracy of the model is: ' + str(accuracy_score(y_test, model.predict(x_test_vectorized))))"
      ]
    },
    {
      "cell_type": "markdown",
      "metadata": {
        "id": "XqabobUiLA0c"
      },
      "source": [
        "***Activity during the break: Let’s fool the model***\n",
        "\n",
        "Analyzing text for sentiment. Use the following statements to produce a sentiment score and classification for the sentence “Adayala road is clear”.\n",
        "\n",
        "you can phrase some your own reviews (e.g., suppose you want make a post on social media, what you would write about your own experience on traffic or public transport travels in your city).\n",
        "\n",
        "you can also try to fool the model and compare the results with ChatGPT."
      ]
    },
    {
      "cell_type": "code",
      "execution_count": 37,
      "metadata": {
        "colab": {
          "base_uri": "https://localhost:8080/"
        },
        "id": "BP05rIBhK7_d",
        "outputId": "73d67a26-741c-469b-b987-330a78ce857d"
      },
      "outputs": [
        {
          "name": "stdout",
          "output_type": "stream",
          "text": [
            "The prediction result of this review is: negative\n"
          ]
        }
      ],
      "source": [
        "# Here you change the reviews\n",
        "text = 'Adayala road is very good'\n",
        "\n",
        "# Make a prediction for this review\n",
        "score=model.predict_proba(vectorizer.transform([text]))[0][1]\n",
        "\n",
        "if score > 0.5:\n",
        "  attitude='negative'\n",
        "else:\n",
        "  attitude='positive'\n",
        "\n",
        "print('The prediction result of this review is: '+ attitude)"
      ]
    },
    {
      "cell_type": "markdown",
      "metadata": {
        "id": "qxzZxDEHLFis"
      },
      "source": [
        "# Exercise - Part 4.2 - Explore the performance of different text vectorization methods"
      ]
    },
    {
      "cell_type": "markdown",
      "metadata": {
        "id": "ZX8kyPqfDsFh"
      },
      "source": [
        "The task will explore the impact of text vectorization methods on traffic sentiment analysis performance. You are expected to explore three different text vectorization models: CountVectorizer, HashingVectorizer, and TfidfVectorizer.  "
      ]
    },
    {
      "cell_type": "code",
      "execution_count": 38,
      "metadata": {
        "colab": {
          "base_uri": "https://localhost:8080/",
          "height": 516
        },
        "id": "Wki8RaErDsFh",
        "outputId": "68423a0c-8782-48f7-e355-e947c1ea0d24"
      },
      "outputs": [
        {
          "name": "stdout",
          "output_type": "stream",
          "text": [
            "The accuracy of the model is: 0.937799043062201\n",
            "The accuracy of the model is: 0.9545454545454546\n",
            "The accuracy of the model is: 0.9545454545454546\n"
          ]
        },
        {
          "data": {
            "image/png": "[encoded data removed]",
            "text/plain": [
              "<Figure size 640x480 with 2 Axes>"
            ]
          },
          "metadata": {},
          "output_type": "display_data"
        },
        {
          "data": {
            "image/png": "[encoded data removed]",
            "text/plain": [
              "<Figure size 640x480 with 2 Axes>"
            ]
          },
          "metadata": {},
          "output_type": "display_data"
        },
        {
          "data": {
            "image/png": "[encoded data removed]",
            "text/plain": [
              "<Figure size 640x480 with 2 Axes>"
            ]
          },
          "metadata": {},
          "output_type": "display_data"
        }
      ],
      "source": [
        "import pandas as pd\n",
        "from sklearn.feature_extraction.text import CountVectorizer\n",
        "from sklearn.feature_extraction.text import TfidfVectorizer\n",
        "from sklearn.feature_extraction.text import HashingVectorizer\n",
        "from sklearn.linear_model import LogisticRegression\n",
        "from sklearn.model_selection import train_test_split\n",
        "%matplotlib inline\n",
        "from sklearn.metrics import ConfusionMatrixDisplay as cmd\n",
        "import os\n",
        "\n",
        "# here you can try use different vectorization methods (Attention! uncomment the\n",
        "# method you want to test, and comment out the other methods)\n",
        "#-*-*-*-*-*-*chose different vectorization-*-*-*-*-*-*\n",
        "\n",
        "#(1) CountVectorizer\n",
        "vectorizer = CountVectorizer(ngram_range=(1, 2), stop_words='english', min_df=20)\n",
        "\n",
        "#(2) #HashingVectorizer\n",
        "vectorizer_2 = HashingVectorizer(ngram_range=(1, 2), n_features=200)\n",
        "\n",
        "#(3)TfidfVectorizer\n",
        "vectorizer_3 = TfidfVectorizer(\n",
        "     min_df=20,\n",
        "     norm='l2',\n",
        "     smooth_idf=True,\n",
        "     use_idf=True,\n",
        "     ngram_range=(1, 2),\n",
        "     stop_words='english'\n",
        "     )\n",
        "\n",
        "#-*-*-*-*-*-*chose different vectorization-*-*-*-*-*-*\n",
        "x = df['Text']\n",
        "y = df['Sentiment']\n",
        "x_train, x_test, y_train, y_test = train_test_split(x, y, test_size=0.2, random_state=0)\n",
        "\n",
        "# apply the vectorizers\n",
        "x_train_vectorized = vectorizer.fit_transform(x_train)\n",
        "x_test_vectorized = vectorizer.transform(x_test)\n",
        "x_train_vectorized_2 = vectorizer_2.fit_transform(x_train)\n",
        "x_test_vectorized_2 = vectorizer_2.transform(x_test)\n",
        "x_train_vectorized_3 = vectorizer_3.fit_transform(x_train)\n",
        "x_test_vectorized_3 = vectorizer_3.transform(x_test)\n",
        "\n",
        "\n",
        "model = LogisticRegression(max_iter=1000, random_state=0)\n",
        "model_2 = LogisticRegression(max_iter=1000, random_state=0)\n",
        "model_3 = LogisticRegression(max_iter=1000, random_state=0)\n",
        "\n",
        "model.fit(x_train_vectorized, y_train)\n",
        "cmd.from_estimator(\n",
        "    model, \n",
        "    x_test_vectorized, \n",
        "    y_test, \n",
        "    display_labels=['Positive','Negative'], \n",
        "    cmap='Blues', \n",
        "    xticks_rotation='vertical'\n",
        "    )\n",
        "model_2.fit(x_train_vectorized_2, y_train)\n",
        "cmd.from_estimator(\n",
        "    model_2, \n",
        "    x_test_vectorized_2, \n",
        "    y_test, \n",
        "    display_labels=['Positive','Negative'], \n",
        "    cmap='Blues', \n",
        "    xticks_rotation='vertical'\n",
        "    )\n",
        "\n",
        "model_3.fit(x_train_vectorized_3, y_train)\n",
        "cmd.from_estimator(\n",
        "    model_3, \n",
        "    x_test_vectorized_3, \n",
        "    y_test, \n",
        "    display_labels=['Positive','Negative'], \n",
        "    cmap='Blues', \n",
        "    xticks_rotation='vertical'\n",
        "    )\n",
        "\n",
        "\n",
        "#calculate accuracy\n",
        "print('The accuracy of the model is: '+str(accuracy_score(y_test,model.predict(x_test_vectorized))))\n",
        "print('The accuracy of the model is: '+str(accuracy_score(y_test,model_2.predict(x_test_vectorized_2))))\n",
        "print('The accuracy of the model is: '+str(accuracy_score(y_test,model_3.predict(x_test_vectorized_3))))"
      ]
    },
    {
      "cell_type": "markdown",
      "metadata": {
        "id": "fts675OXDsFh"
      },
      "source": [
        "# Exercise - part 4.3-Explore the performance of different text classification models"
      ]
    },
    {
      "cell_type": "markdown",
      "metadata": {
        "id": "avHzedDFDsFh"
      },
      "source": [
        "The task will explore the performance of different models in traffic sentiment analysis. You are expected to explore different text classification methods, including LR, KNN, RF, XGBoost, etc.  "
      ]
    },
    {
      "cell_type": "code",
      "execution_count": 39,
      "metadata": {
        "colab": {
          "base_uri": "https://localhost:8080/",
          "height": 516
        },
        "id": "q8SwgWSyDsFh",
        "outputId": "3da1f2af-7f70-4c80-baa5-e15f385cb0ff"
      },
      "outputs": [
        {
          "name": "stdout",
          "output_type": "stream",
          "text": [
            "The accuracy of the Logistic Regression model is: 0.9521531100478469\n",
            "The accuracy of the KNN model is: 0.8923444976076556\n",
            "The accuracy of the XGBoost model is: 0.9712918660287081\n",
            "The accuracy of the SVM model is: 0.9545454545454546\n",
            "The accuracy of the Naive Bayes model is: 0.9401913875598086\n"
          ]
        },
        {
          "data": {
            "image/png": "[encoded data removed]",
            "text/plain": [
              "<Figure size 640x480 with 2 Axes>"
            ]
          },
          "metadata": {},
          "output_type": "display_data"
        },
        {
          "data": {
            "image/png": "[encoded data removed]",
            "text/plain": [
              "<Figure size 640x480 with 2 Axes>"
            ]
          },
          "metadata": {},
          "output_type": "display_data"
        },
        {
          "data": {
            "image/png": "[encoded data removed]",
            "text/plain": [
              "<Figure size 640x480 with 2 Axes>"
            ]
          },
          "metadata": {},
          "output_type": "display_data"
        },
        {
          "data": {
            "image/png": "[encoded data removed]",
            "text/plain": [
              "<Figure size 640x480 with 2 Axes>"
            ]
          },
          "metadata": {},
          "output_type": "display_data"
        },
        {
          "data": {
            "image/png": "[encoded data removed]",
            "text/plain": [
              "<Figure size 640x480 with 2 Axes>"
            ]
          },
          "metadata": {},
          "output_type": "display_data"
        }
      ],
      "source": [
        "import pandas as pd\n",
        "from sklearn.feature_extraction.text import CountVectorizer\n",
        "from sklearn.feature_extraction.text import TfidfVectorizer\n",
        "from sklearn.linear_model import LogisticRegression\n",
        "from sklearn.model_selection import train_test_split\n",
        "%matplotlib inline\n",
        "from sklearn.metrics import ConfusionMatrixDisplay as cmd\n",
        "from sklearn.neighbors import KNeighborsClassifier\n",
        "from sklearn.ensemble import RandomForestClassifier\n",
        "from xgboost import XGBClassifier\n",
        "from sklearn.svm import SVC\n",
        "from sklearn.naive_bayes import BernoulliNB\n",
        "import os\n",
        "\n",
        "vectorizer = TfidfVectorizer(\n",
        "    min_df=20,\n",
        "    norm='l2',\n",
        "    smooth_idf=True,\n",
        "    use_idf=True,\n",
        "    ngram_range=(1, 1),\n",
        "    stop_words='english'\n",
        "    )\n",
        "\n",
        "# split into train/test set\n",
        "x = df['Text']\n",
        "y = df['Sentiment']\n",
        "x_train, x_test, y_train, y_test = train_test_split(x, y, test_size=0.2, random_state=0)\n",
        "\n",
        "# apply the vectorizers\n",
        "x_train_vectorized = vectorizer.fit_transform(x_train)\n",
        "x_test_vectorized = vectorizer.transform(x_test)\n",
        "\n",
        "# here you can try use different models (Attention! uncomment the method you want\n",
        "# to test, and comment out the other methods)\n",
        "\n",
        "\n",
        "#-*-*-*-*-*-*chose different models-*-*-*-*-*-*\n",
        "\n",
        "#(1)LR\n",
        "model = LogisticRegression(max_iter=1000, random_state=0)\n",
        "\n",
        "#(2)KNN\n",
        "model_knn= KNeighborsClassifier()\n",
        "\n",
        "#(3)RF\n",
        "model_rf = RandomForestClassifier(random_state=0)\n",
        "\n",
        "#(4)XGBoost\n",
        "model_xgb =  XGBClassifier()\n",
        "\n",
        "#(5)SVM\n",
        "model_svm= SVC(kernel=\"linear\")\n",
        "\n",
        "#(6)Naïve Bayes models\n",
        "model_nb = BernoulliNB()\n",
        "#-*-*-*-*-*-*chose different models-*-*-*-*-*-*\n",
        "model.fit(x_train_vectorized, y_train)\n",
        "model_knn.fit(x_train_vectorized, y_train)\n",
        "model_xgb.fit(x_train_vectorized, y_train)\n",
        "model_svm.fit(x_train_vectorized, y_train)\n",
        "model_nb.fit(x_train_vectorized, y_train)\n",
        "\n",
        "cmd.from_estimator(\n",
        "    model, \n",
        "    x_test_vectorized, \n",
        "    y_test,\n",
        "    display_labels=['Positive (LR)','Negative (LR)'],\n",
        "    cmap='Blues', \n",
        "    xticks_rotation='vertical',\n",
        "    )\n",
        "\n",
        "cmd.from_estimator(\n",
        "    model_knn, \n",
        "    x_test_vectorized, \n",
        "    y_test,\n",
        "    display_labels=['Positive (KNN)','Negative (KNN)'],\n",
        "    cmap='Blues', \n",
        "    xticks_rotation='vertical'\n",
        "    )\n",
        "\n",
        "cmd.from_estimator(\n",
        "    model_xgb, \n",
        "    x_test_vectorized, \n",
        "    y_test,\n",
        "    display_labels=['Positive (XGB)','Negative (XGB)'],\n",
        "    cmap='Blues', \n",
        "    xticks_rotation='vertical'\n",
        "    )\n",
        "\n",
        "cmd.from_estimator(\n",
        "    model_svm, \n",
        "    x_test_vectorized, \n",
        "    y_test,\n",
        "    display_labels=['Positive (SVM)','Negative (SVM)'],\n",
        "    cmap='Blues', \n",
        "    xticks_rotation='vertical'\n",
        "    )\n",
        "\n",
        "cmd.from_estimator(\n",
        "    model_nb, \n",
        "    x_test_vectorized, \n",
        "    y_test,\n",
        "    display_labels=['Positive (NB)','Negative (NB)'],\n",
        "    cmap='Blues', \n",
        "    xticks_rotation='vertical'\n",
        "    )\n",
        "\n",
        "#calculate accuracy\n",
        "print('The accuracy of the Logistic Regression model is: '+str(accuracy_score(y_test,model.predict(x_test_vectorized))))\n",
        "print('The accuracy of the KNN model is: '+str(accuracy_score(y_test,model_knn.predict(x_test_vectorized))))\n",
        "print('The accuracy of the XGBoost model is: '+str(accuracy_score(y_test,model_xgb.predict(x_test_vectorized))))\n",
        "print('The accuracy of the SVM model is: '+str(accuracy_score(y_test,model_svm.predict(x_test_vectorized))))\n",
        "print('The accuracy of the Naive Bayes model is: '+str(accuracy_score(y_test,model_nb.predict(x_test_vectorized))))"
      ]
    },
    {
      "cell_type": "markdown",
      "metadata": {
        "id": "QbJcT_mUDsFh"
      },
      "source": [
        "# Exercise - Assignment task-Find the best text classification model for the sentimental analysis (assignment submission)"
      ]
    },
    {
      "cell_type": "markdown",
      "metadata": {
        "id": "_jA0t3TsDsFh"
      },
      "source": [
        "The tasks for this part is use the grid search to: \n",
        "1. Identify which vectorization method works the best or basically not much difference. \n",
        "2. Identify which model, together with its corresponding hyperparameters, gives the best performance for traffic sentimental analysis.\n",
        "\n",
        "You can either use the structure below or be a be a bit more explorative and try out other strategies we have discussed in the lecture/exercises to find the best parameters/model (e.g., Random Search, ROC curve,...)."
      ]
    },
    {
      "cell_type": "code",
      "execution_count": 40,
      "metadata": {
        "colab": {
          "base_uri": "https://localhost:8080/",
          "height": 534
        },
        "id": "0KNzQrz7DsFh",
        "outputId": "005bf2d6-ab28-4ad6-ce41-900554c26b83"
      },
      "outputs": [
        {
          "data": {
            "text/plain": [
              "\"\\n# here you can try use the grid search to find the best model parameter(a example is in SVM model)\\n#-*-*-*-*-*-*-*-*-*-*-*-*-*-*-*-*-*-*\\n#(1)LR\\n# model = LogisticRegression(max_iter=1000, random_state=0)\\n# param_grid = {\\n#     'C': [0.001, 0.01, 0.1, 1, 10, 100],\\n# }\\n\\n#(2)KNN\\n# model=KNeighborsClassifier()\\n# param_grid = {\\n#     'n_neighbors': [3, 5, 7, 9],\\n#     'weights': ['uniform', 'distance']\\n# }\\n\\n#(3)RF\\n# model = RandomForestClassifier(random_state=0)\\n# param_grid = {\\n#     'n_estimators': [100, 200, 300],\\n#     'max_depth': [None, 10, 20, 30],\\n#     'min_samples_split': [2, 5, 10],\\n#     'min_samples_leaf': [1, 2, 4]\\n# }\\n\\n#(4)XGBoost\\n# model =  XGBClassifier()\\n# param_grid = {\\n#     'learning_rate': [0.01, 0.1, 0.2],\\n#     'n_estimators': [100, 200, 300],\\n#     'max_depth': [3, 4, 5]\\n# }\\n\\n\\n#(5)SVM\\nmodel= SVC(probability=True)\\n\\n# this is an example to use the grid search to find the best parameter for SVM model\\n# param_grid specifies the hyperparameter grid to search over： kernel types \\n# ('linear', 'rbf', 'poly') and regularization strength C values（0.1, 1, 10）.\\nparam_grid = {'kernel': ['linear', 'rbf', 'poly'],'C': [0.1, 1, 10]}\\n\\n#`grid_search` performs a grid search with 5-fold cross-validation and evaluates models based on accuracy.\\ngrid_search = GridSearchCV(estimator=model, param_grid=param_grid, cv=5, scoring='accuracy')\\n\\n#`fit` method fits the model to the training data, systematically trying out all \\n# parameter combinations.\\ngrid_search.fit(x_train_vectorized, y_train)\\n\\n#`best_params` and `best_score` store the best hyperparameters and their \\n# corresponding accuracy score.\\nbest_params = grid_search.best_params_\\nprint(best_params)\\nbest_score = grid_search.best_score_\\n\\n#The `model` is updated with the best estimator found during the grid search, \\n# which can be used for further analysis.\\nmodel = grid_search.best_estimator_\\n\\n#(6)Naïve Bayes models\\n# model=BernoulliNB()\\n# param_grid = {'alpha': [0.1, 0.5, 1],'force_alpha': [True,False]}\\n\\n#-*-*-*-*-*-*-*-*-*-*-*-*-*-*-*-*-*-*\\n\\ncmd.from_estimator(\\n    model, \\n    x_test_vectorized, \\n    y_test,\\n    display_labels=['Positive','Negative'],\\n    cmap='Blues',\\n    xticks_rotation='vertical'\\n    )\\n\\n#calculate accuracy\\nprint('The accuracy of the model is: '+str(accuracy_score(y_test,model.predict(x_test_vectorized))))\\n\""
            ]
          },
          "execution_count": 40,
          "metadata": {},
          "output_type": "execute_result"
        }
      ],
      "source": [
        "import pandas as pd\n",
        "from sklearn.feature_extraction.text import CountVectorizer\n",
        "from sklearn.feature_extraction.text import TfidfVectorizer\n",
        "from sklearn.linear_model import LogisticRegression\n",
        "from sklearn.model_selection import train_test_split\n",
        "%matplotlib inline\n",
        "from sklearn.metrics import ConfusionMatrixDisplay as cmd\n",
        "from sklearn.neighbors import KNeighborsClassifier\n",
        "from sklearn.ensemble import RandomForestClassifier\n",
        "from xgboost import XGBClassifier\n",
        "from sklearn.svm import SVC\n",
        "from sklearn.naive_bayes import BernoulliNB\n",
        "import os\n",
        "from sklearn.model_selection import GridSearchCV, RandomizedSearchCV\n",
        "\n",
        "\n",
        "#-*-*-*-*-*-*chose different vectorization-*-*-*-*-*-*\n",
        "\n",
        "#(1) CountVectorizer\n",
        "vectorizer_count = CountVectorizer(ngram_range=(1, 2), stop_words='english',min_df=20)\n",
        "\n",
        "#(2) #HashingVectorizer\n",
        "vectorizer_hash = HashingVectorizer(ngram_range=(1, 2), n_features=200)\n",
        "\n",
        "#(3)TfidfVectorizer\n",
        "vectorizer_tfid = TfidfVectorizer(\n",
        "    min_df=20,\n",
        "    norm='l2',\n",
        "    smooth_idf=True,\n",
        "    use_idf=True,\n",
        "    ngram_range=(1, 1),\n",
        "    stop_words='english'\n",
        "    )\n",
        "\n",
        "#-*-*-*-*-*-*chose different vectorization-*-*-*-*-*-*\n",
        "\n",
        "# split into train/test set\n",
        "x = df['Text']\n",
        "y = df['Sentiment']\n",
        "x_train, x_test, y_train, y_test = train_test_split(x, y, test_size=0.2, random_state=0)\n",
        "\n",
        "# apply the vectorizers\n",
        "x_train_vectorized_1 = vectorizer_count.fit_transform(x_train)\n",
        "x_test_vectorized_1= vectorizer_count.transform(x_test)\n",
        "x_train_vectorized_2 = vectorizer_hash.fit_transform(x_train)\n",
        "x_test_vectorized_2= vectorizer_hash.transform(x_test)\n",
        "x_train_vectorized_3 = vectorizer_tfid.fit_transform(x_train)\n",
        "x_test_vectorized_3= vectorizer_tfid.transform(x_test)\n",
        "\n",
        "results_df = pd.DataFrame(columns=[\"model\", \"accuracy_vectorizer_count\", \"accuracy_vectorizer_hash\",\n",
        "                           \"accuracy_vectorizer_tfid\",\"best_params_vectorizer_count\", \"best_params_vectorizer_hash\",\n",
        "                           \"best_params_vectorizer_tfid\" ])\n",
        "\"\"\"\n",
        "# here you can try use the grid search to find the best model parameter(a example is in SVM model)\n",
        "#-*-*-*-*-*-*-*-*-*-*-*-*-*-*-*-*-*-*\n",
        "#(1)LR\n",
        "# model = LogisticRegression(max_iter=1000, random_state=0)\n",
        "# param_grid = {\n",
        "#     'C': [0.001, 0.01, 0.1, 1, 10, 100],\n",
        "# }\n",
        "\n",
        "#(2)KNN\n",
        "# model=KNeighborsClassifier()\n",
        "# param_grid = {\n",
        "#     'n_neighbors': [3, 5, 7, 9],\n",
        "#     'weights': ['uniform', 'distance']\n",
        "# }\n",
        "\n",
        "#(3)RF\n",
        "# model = RandomForestClassifier(random_state=0)\n",
        "# param_grid = {\n",
        "#     'n_estimators': [100, 200, 300],\n",
        "#     'max_depth': [None, 10, 20, 30],\n",
        "#     'min_samples_split': [2, 5, 10],\n",
        "#     'min_samples_leaf': [1, 2, 4]\n",
        "# }\n",
        "\n",
        "#(4)XGBoost\n",
        "# model =  XGBClassifier()\n",
        "# param_grid = {\n",
        "#     'learning_rate': [0.01, 0.1, 0.2],\n",
        "#     'n_estimators': [100, 200, 300],\n",
        "#     'max_depth': [3, 4, 5]\n",
        "# }\n",
        "\n",
        "\n",
        "#(5)SVM\n",
        "model= SVC(probability=True)\n",
        "\n",
        "# this is an example to use the grid search to find the best parameter for SVM model\n",
        "# param_grid specifies the hyperparameter grid to search over： kernel types \n",
        "# ('linear', 'rbf', 'poly') and regularization strength C values（0.1, 1, 10）.\n",
        "param_grid = {'kernel': ['linear', 'rbf', 'poly'],'C': [0.1, 1, 10]}\n",
        "\n",
        "#`grid_search` performs a grid search with 5-fold cross-validation and evaluates models based on accuracy.\n",
        "grid_search = GridSearchCV(estimator=model, param_grid=param_grid, cv=5, scoring='accuracy')\n",
        "\n",
        "#`fit` method fits the model to the training data, systematically trying out all \n",
        "# parameter combinations.\n",
        "grid_search.fit(x_train_vectorized, y_train)\n",
        "\n",
        "#`best_params` and `best_score` store the best hyperparameters and their \n",
        "# corresponding accuracy score.\n",
        "best_params = grid_search.best_params_\n",
        "print(best_params)\n",
        "best_score = grid_search.best_score_\n",
        "\n",
        "#The `model` is updated with the best estimator found during the grid search, \n",
        "# which can be used for further analysis.\n",
        "model = grid_search.best_estimator_\n",
        "\n",
        "#(6)Naïve Bayes models\n",
        "# model=BernoulliNB()\n",
        "# param_grid = {'alpha': [0.1, 0.5, 1],'force_alpha': [True,False]}\n",
        "\n",
        "#-*-*-*-*-*-*-*-*-*-*-*-*-*-*-*-*-*-*\n",
        "\n",
        "cmd.from_estimator(\n",
        "    model, \n",
        "    x_test_vectorized, \n",
        "    y_test,\n",
        "    display_labels=['Positive','Negative'],\n",
        "    cmap='Blues',\n",
        "    xticks_rotation='vertical'\n",
        "    )\n",
        "\n",
        "#calculate accuracy\n",
        "print('The accuracy of the model is: '+str(accuracy_score(y_test,model.predict(x_test_vectorized))))\n",
        "\"\"\"\n",
        "###dd"
      ]
    },
    {
      "cell_type": "markdown",
      "metadata": {},
      "source": [
        "Now for each model type and each vectorization type, a Random Search is performed"
      ]
    },
    {
      "cell_type": "code",
      "execution_count": 41,
      "metadata": {},
      "outputs": [
        {
          "name": "stderr",
          "output_type": "stream",
          "text": [
            "d:\\KTH\\Applied Artificial Intelligence in Transportation\\AH2179-Lab_2\\.venv\\Lib\\site-packages\\sklearn\\model_selection\\_search.py:317: UserWarning: The total space of parameters 6 is smaller than n_iter=20. Running 6 iterations. For exhaustive searches, use GridSearchCV.\n",
            "  warnings.warn(\n",
            "d:\\KTH\\Applied Artificial Intelligence in Transportation\\AH2179-Lab_2\\.venv\\Lib\\site-packages\\sklearn\\model_selection\\_search.py:317: UserWarning: The total space of parameters 6 is smaller than n_iter=20. Running 6 iterations. For exhaustive searches, use GridSearchCV.\n",
            "  warnings.warn(\n",
            "d:\\KTH\\Applied Artificial Intelligence in Transportation\\AH2179-Lab_2\\.venv\\Lib\\site-packages\\sklearn\\model_selection\\_search.py:317: UserWarning: The total space of parameters 6 is smaller than n_iter=20. Running 6 iterations. For exhaustive searches, use GridSearchCV.\n",
            "  warnings.warn(\n",
            "C:\\Users\\jemaa\\AppData\\Local\\Temp\\ipykernel_23760\\2341502821.py:47: FutureWarning: The behavior of DataFrame concatenation with empty or all-NA entries is deprecated. In a future version, this will no longer exclude empty or all-NA columns when determining the result dtypes. To retain the old behavior, exclude the relevant entries before the concat operation.\n",
            "  results_df = pd.concat([results_df,new_df], axis=0)\n"
          ]
        },
        {
          "data": {
            "application/vnd.microsoft.datawrangler.viewer.v0+json": {
              "columns": [
                {
                  "name": "index",
                  "rawType": "int64",
                  "type": "integer"
                },
                {
                  "name": "model",
                  "rawType": "object",
                  "type": "string"
                },
                {
                  "name": "accuracy_vectorizer_count",
                  "rawType": "float64",
                  "type": "float"
                },
                {
                  "name": "accuracy_vectorizer_hash",
                  "rawType": "float64",
                  "type": "float"
                },
                {
                  "name": "accuracy_vectorizer_tfid",
                  "rawType": "float64",
                  "type": "float"
                },
                {
                  "name": "best_params_vectorizer_count",
                  "rawType": "object",
                  "type": "string"
                },
                {
                  "name": "best_params_vectorizer_hash",
                  "rawType": "object",
                  "type": "string"
                },
                {
                  "name": "best_params_vectorizer_tfid",
                  "rawType": "object",
                  "type": "string"
                }
              ],
              "ref": "c90fea52-f9a4-4e62-a7c6-fcdc14041619",
              "rows": [
                [
                  "0",
                  "Logistic Regression",
                  "0.937799043062201",
                  "0.9497607655502392",
                  "0.9545454545454546",
                  "{'C': 1}",
                  "{'C': 10}",
                  "{'C': 0.1}"
                ]
              ],
              "shape": {
                "columns": 7,
                "rows": 1
              }
            },
            "text/html": [
              "<div>\n",
              "<style scoped>\n",
              "    .dataframe tbody tr th:only-of-type {\n",
              "        vertical-align: middle;\n",
              "    }\n",
              "\n",
              "    .dataframe tbody tr th {\n",
              "        vertical-align: top;\n",
              "    }\n",
              "\n",
              "    .dataframe thead th {\n",
              "        text-align: right;\n",
              "    }\n",
              "</style>\n",
              "<table border=\"1\" class=\"dataframe\">\n",
              "  <thead>\n",
              "    <tr style=\"text-align: right;\">\n",
              "      <th></th>\n",
              "      <th>model</th>\n",
              "      <th>accuracy_vectorizer_count</th>\n",
              "      <th>accuracy_vectorizer_hash</th>\n",
              "      <th>accuracy_vectorizer_tfid</th>\n",
              "      <th>best_params_vectorizer_count</th>\n",
              "      <th>best_params_vectorizer_hash</th>\n",
              "      <th>best_params_vectorizer_tfid</th>\n",
              "    </tr>\n",
              "  </thead>\n",
              "  <tbody>\n",
              "    <tr>\n",
              "      <th>0</th>\n",
              "      <td>Logistic Regression</td>\n",
              "      <td>0.937799</td>\n",
              "      <td>0.949761</td>\n",
              "      <td>0.954545</td>\n",
              "      <td>{'C': 1}</td>\n",
              "      <td>{'C': 10}</td>\n",
              "      <td>{'C': 0.1}</td>\n",
              "    </tr>\n",
              "  </tbody>\n",
              "</table>\n",
              "</div>"
            ],
            "text/plain": [
              "                 model  accuracy_vectorizer_count  accuracy_vectorizer_hash  \\\n",
              "0  Logistic Regression                   0.937799                  0.949761   \n",
              "\n",
              "   accuracy_vectorizer_tfid best_params_vectorizer_count  \\\n",
              "0                  0.954545                     {'C': 1}   \n",
              "\n",
              "  best_params_vectorizer_hash best_params_vectorizer_tfid  \n",
              "0                   {'C': 10}                  {'C': 0.1}  "
            ]
          },
          "execution_count": 41,
          "metadata": {},
          "output_type": "execute_result"
        }
      ],
      "source": [
        "## Logistic Regression\n",
        "model_1 = LogisticRegression(max_iter=1000, random_state=0)\n",
        "model_2 = LogisticRegression(max_iter=1000, random_state=0)\n",
        "model_3 = LogisticRegression(max_iter=1000, random_state=0)\n",
        "\n",
        "param_grid = {\n",
        "     'C': [0.001, 0.01, 0.1, 1, 10, 100],\n",
        "}\n",
        "\n",
        "random_search_1 = RandomizedSearchCV(estimator=model_1, param_distributions=param_grid, n_iter = 20,cv=5, scoring='accuracy')\n",
        "random_search_2 = RandomizedSearchCV(estimator=model_2, param_distributions=param_grid, n_iter = 20,cv=5, scoring='accuracy')\n",
        "random_search_3 = RandomizedSearchCV(estimator=model_3, param_distributions=param_grid, n_iter = 20,cv=5, scoring='accuracy')\n",
        "\n",
        "#\n",
        "random_search_1.fit(x_train_vectorized_1, y_train)\n",
        "random_search_2.fit(x_train_vectorized_2, y_train)\n",
        "random_search_3.fit(x_train_vectorized_3, y_train)\n",
        "\n",
        "#`best_params` and `best_score` store the best hyperparameters and their \n",
        "# corresponding accuracy score.\n",
        "best_params_1 = random_search_1.best_params_\n",
        "best_score_1 = random_search_1.best_score_\n",
        "best_params_2 = random_search_2.best_params_\n",
        "best_score_2 = random_search_2.best_score_\n",
        "best_params_3 = random_search_3.best_params_\n",
        "best_score_3 = random_search_3.best_score_\n",
        "\n",
        "#The `model` is updated with the best estimator found during the grid search, \n",
        "# which can be used for further analysis.\n",
        "model_1 = random_search_1.best_estimator_\n",
        "model_2 = random_search_2.best_estimator_\n",
        "model_3 = random_search_3.best_estimator_\n",
        "\n",
        "accuracy_1 = accuracy_score(y_test,model_1.predict(x_test_vectorized_1))\n",
        "accuracy_2 = accuracy_score(y_test,model_2.predict(x_test_vectorized_2))\n",
        "accuracy_3 = accuracy_score(y_test,model_3.predict(x_test_vectorized_3))\n",
        "\n",
        "\n",
        "\n",
        "new_df = pd.DataFrame(data={\"model\": [\"Logistic Regression\"], \"accuracy_vectorizer_count\": [accuracy_1], \n",
        "                            \"accuracy_vectorizer_hash\": [accuracy_2],\n",
        "                           \"accuracy_vectorizer_tfid\": [accuracy_3],\n",
        "                           \"best_params_vectorizer_count\": [str(best_params_1)],\n",
        "                           \"best_params_vectorizer_hash\": [str(best_params_2)],\n",
        "                           \"best_params_vectorizer_tfid\": [str(best_params_3)]})\n",
        "\n",
        "results_df = pd.concat([results_df,new_df], axis=0)\n",
        "results_df[results_df[\"model\"] == \"Logistic Regression\"]"
      ]
    },
    {
      "cell_type": "code",
      "execution_count": 42,
      "metadata": {},
      "outputs": [
        {
          "name": "stderr",
          "output_type": "stream",
          "text": [
            "d:\\KTH\\Applied Artificial Intelligence in Transportation\\AH2179-Lab_2\\.venv\\Lib\\site-packages\\sklearn\\model_selection\\_search.py:317: UserWarning: The total space of parameters 8 is smaller than n_iter=20. Running 8 iterations. For exhaustive searches, use GridSearchCV.\n",
            "  warnings.warn(\n",
            "d:\\KTH\\Applied Artificial Intelligence in Transportation\\AH2179-Lab_2\\.venv\\Lib\\site-packages\\sklearn\\model_selection\\_search.py:317: UserWarning: The total space of parameters 8 is smaller than n_iter=20. Running 8 iterations. For exhaustive searches, use GridSearchCV.\n",
            "  warnings.warn(\n",
            "d:\\KTH\\Applied Artificial Intelligence in Transportation\\AH2179-Lab_2\\.venv\\Lib\\site-packages\\sklearn\\model_selection\\_search.py:317: UserWarning: The total space of parameters 8 is smaller than n_iter=20. Running 8 iterations. For exhaustive searches, use GridSearchCV.\n",
            "  warnings.warn(\n"
          ]
        },
        {
          "data": {
            "application/vnd.microsoft.datawrangler.viewer.v0+json": {
              "columns": [
                {
                  "name": "index",
                  "rawType": "int64",
                  "type": "integer"
                },
                {
                  "name": "model",
                  "rawType": "object",
                  "type": "string"
                },
                {
                  "name": "accuracy_vectorizer_count",
                  "rawType": "float64",
                  "type": "float"
                },
                {
                  "name": "accuracy_vectorizer_hash",
                  "rawType": "float64",
                  "type": "float"
                },
                {
                  "name": "accuracy_vectorizer_tfid",
                  "rawType": "float64",
                  "type": "float"
                },
                {
                  "name": "best_params_vectorizer_count",
                  "rawType": "object",
                  "type": "string"
                },
                {
                  "name": "best_params_vectorizer_hash",
                  "rawType": "object",
                  "type": "string"
                },
                {
                  "name": "best_params_vectorizer_tfid",
                  "rawType": "object",
                  "type": "string"
                }
              ],
              "ref": "cdfe2e0c-f226-48be-aa62-841ef07105b5",
              "rows": [
                [
                  "0",
                  "KNN",
                  "0.9258373205741627",
                  "0.9521531100478469",
                  "0.9090909090909091",
                  "{'weights': 'uniform', 'n_neighbors': 5}",
                  "{'weights': 'uniform', 'n_neighbors': 9}",
                  "{'weights': 'distance', 'n_neighbors': 5}"
                ]
              ],
              "shape": {
                "columns": 7,
                "rows": 1
              }
            },
            "text/html": [
              "<div>\n",
              "<style scoped>\n",
              "    .dataframe tbody tr th:only-of-type {\n",
              "        vertical-align: middle;\n",
              "    }\n",
              "\n",
              "    .dataframe tbody tr th {\n",
              "        vertical-align: top;\n",
              "    }\n",
              "\n",
              "    .dataframe thead th {\n",
              "        text-align: right;\n",
              "    }\n",
              "</style>\n",
              "<table border=\"1\" class=\"dataframe\">\n",
              "  <thead>\n",
              "    <tr style=\"text-align: right;\">\n",
              "      <th></th>\n",
              "      <th>model</th>\n",
              "      <th>accuracy_vectorizer_count</th>\n",
              "      <th>accuracy_vectorizer_hash</th>\n",
              "      <th>accuracy_vectorizer_tfid</th>\n",
              "      <th>best_params_vectorizer_count</th>\n",
              "      <th>best_params_vectorizer_hash</th>\n",
              "      <th>best_params_vectorizer_tfid</th>\n",
              "    </tr>\n",
              "  </thead>\n",
              "  <tbody>\n",
              "    <tr>\n",
              "      <th>0</th>\n",
              "      <td>KNN</td>\n",
              "      <td>0.925837</td>\n",
              "      <td>0.952153</td>\n",
              "      <td>0.909091</td>\n",
              "      <td>{'weights': 'uniform', 'n_neighbors': 5}</td>\n",
              "      <td>{'weights': 'uniform', 'n_neighbors': 9}</td>\n",
              "      <td>{'weights': 'distance', 'n_neighbors': 5}</td>\n",
              "    </tr>\n",
              "  </tbody>\n",
              "</table>\n",
              "</div>"
            ],
            "text/plain": [
              "  model  accuracy_vectorizer_count  accuracy_vectorizer_hash  \\\n",
              "0   KNN                   0.925837                  0.952153   \n",
              "\n",
              "   accuracy_vectorizer_tfid              best_params_vectorizer_count  \\\n",
              "0                  0.909091  {'weights': 'uniform', 'n_neighbors': 5}   \n",
              "\n",
              "                best_params_vectorizer_hash  \\\n",
              "0  {'weights': 'uniform', 'n_neighbors': 9}   \n",
              "\n",
              "                 best_params_vectorizer_tfid  \n",
              "0  {'weights': 'distance', 'n_neighbors': 5}  "
            ]
          },
          "execution_count": 42,
          "metadata": {},
          "output_type": "execute_result"
        }
      ],
      "source": [
        "## KNN\n",
        "model_1 = KNeighborsClassifier()\n",
        "model_2 = KNeighborsClassifier()\n",
        "model_3 = KNeighborsClassifier()\n",
        "\n",
        "param_grid = {\n",
        "     'n_neighbors': [3, 5, 7, 9],\n",
        "     'weights': ['uniform', 'distance']\n",
        "}\n",
        "\n",
        "\n",
        "random_search_1 = RandomizedSearchCV(estimator=model_1, param_distributions=param_grid, n_iter = 20,cv=5, scoring='accuracy')\n",
        "random_search_2 = RandomizedSearchCV(estimator=model_2, param_distributions=param_grid, n_iter = 20,cv=5, scoring='accuracy')\n",
        "random_search_3 = RandomizedSearchCV(estimator=model_3, param_distributions=param_grid, n_iter = 20,cv=5, scoring='accuracy')\n",
        "\n",
        "#\n",
        "random_search_1.fit(x_train_vectorized_1, y_train)\n",
        "random_search_2.fit(x_train_vectorized_2, y_train)\n",
        "random_search_3.fit(x_train_vectorized_3, y_train)\n",
        "\n",
        "#`best_params` and `best_score` store the best hyperparameters and their \n",
        "# corresponding accuracy score.\n",
        "best_params_1 = random_search_1.best_params_\n",
        "best_score_1 = random_search_1.best_score_\n",
        "best_params_2 = random_search_2.best_params_\n",
        "best_score_2 = random_search_2.best_score_\n",
        "best_params_3 = random_search_3.best_params_\n",
        "best_score_3 = random_search_3.best_score_\n",
        "\n",
        "#The `model` is updated with the best estimator found during the grid search, \n",
        "# which can be used for further analysis.\n",
        "model_1 = random_search_1.best_estimator_\n",
        "model_2 = random_search_2.best_estimator_\n",
        "model_3 = random_search_3.best_estimator_\n",
        "\n",
        "accuracy_1 = accuracy_score(y_test,model_1.predict(x_test_vectorized_1))\n",
        "accuracy_2 = accuracy_score(y_test,model_2.predict(x_test_vectorized_2))\n",
        "accuracy_3 = accuracy_score(y_test,model_3.predict(x_test_vectorized_3))\n",
        "\n",
        "\n",
        "new_df = pd.DataFrame(data={\"model\": [\"KNN\"], \"accuracy_vectorizer_count\": [accuracy_1], \n",
        "                            \"accuracy_vectorizer_hash\": [accuracy_2],\n",
        "                           \"accuracy_vectorizer_tfid\": [accuracy_3],\n",
        "                           \"best_params_vectorizer_count\": [str(best_params_1)],\n",
        "                           \"best_params_vectorizer_hash\": [str(best_params_2)],\n",
        "                           \"best_params_vectorizer_tfid\": [str(best_params_3)]})\n",
        "\n",
        "results_df = pd.concat([results_df,new_df], axis=0)\n",
        "results_df[results_df[\"model\"] == \"KNN\"]"
      ]
    },
    {
      "cell_type": "code",
      "execution_count": 43,
      "metadata": {},
      "outputs": [
        {
          "data": {
            "application/vnd.microsoft.datawrangler.viewer.v0+json": {
              "columns": [
                {
                  "name": "index",
                  "rawType": "int64",
                  "type": "integer"
                },
                {
                  "name": "model",
                  "rawType": "object",
                  "type": "string"
                },
                {
                  "name": "accuracy_vectorizer_count",
                  "rawType": "float64",
                  "type": "float"
                },
                {
                  "name": "accuracy_vectorizer_hash",
                  "rawType": "float64",
                  "type": "float"
                },
                {
                  "name": "accuracy_vectorizer_tfid",
                  "rawType": "float64",
                  "type": "float"
                },
                {
                  "name": "best_params_vectorizer_count",
                  "rawType": "object",
                  "type": "string"
                },
                {
                  "name": "best_params_vectorizer_hash",
                  "rawType": "object",
                  "type": "string"
                },
                {
                  "name": "best_params_vectorizer_tfid",
                  "rawType": "object",
                  "type": "string"
                }
              ],
              "ref": "7eaea0e1-6b29-4e2a-ae4e-5c230035cf56",
              "rows": [
                [
                  "0",
                  "Random Forests",
                  "0.9641148325358851",
                  "0.9712918660287081",
                  "0.9688995215311005",
                  "{'n_estimators': 300, 'min_samples_split': 10, 'min_samples_leaf': 1, 'max_depth': None}",
                  "{'n_estimators': 300, 'min_samples_split': 5, 'min_samples_leaf': 2, 'max_depth': 30}",
                  "{'n_estimators': 300, 'min_samples_split': 5, 'min_samples_leaf': 1, 'max_depth': None}"
                ]
              ],
              "shape": {
                "columns": 7,
                "rows": 1
              }
            },
            "text/html": [
              "<div>\n",
              "<style scoped>\n",
              "    .dataframe tbody tr th:only-of-type {\n",
              "        vertical-align: middle;\n",
              "    }\n",
              "\n",
              "    .dataframe tbody tr th {\n",
              "        vertical-align: top;\n",
              "    }\n",
              "\n",
              "    .dataframe thead th {\n",
              "        text-align: right;\n",
              "    }\n",
              "</style>\n",
              "<table border=\"1\" class=\"dataframe\">\n",
              "  <thead>\n",
              "    <tr style=\"text-align: right;\">\n",
              "      <th></th>\n",
              "      <th>model</th>\n",
              "      <th>accuracy_vectorizer_count</th>\n",
              "      <th>accuracy_vectorizer_hash</th>\n",
              "      <th>accuracy_vectorizer_tfid</th>\n",
              "      <th>best_params_vectorizer_count</th>\n",
              "      <th>best_params_vectorizer_hash</th>\n",
              "      <th>best_params_vectorizer_tfid</th>\n",
              "    </tr>\n",
              "  </thead>\n",
              "  <tbody>\n",
              "    <tr>\n",
              "      <th>0</th>\n",
              "      <td>Random Forests</td>\n",
              "      <td>0.964115</td>\n",
              "      <td>0.971292</td>\n",
              "      <td>0.9689</td>\n",
              "      <td>{'n_estimators': 300, 'min_samples_split': 10,...</td>\n",
              "      <td>{'n_estimators': 300, 'min_samples_split': 5, ...</td>\n",
              "      <td>{'n_estimators': 300, 'min_samples_split': 5, ...</td>\n",
              "    </tr>\n",
              "  </tbody>\n",
              "</table>\n",
              "</div>"
            ],
            "text/plain": [
              "            model  accuracy_vectorizer_count  accuracy_vectorizer_hash  \\\n",
              "0  Random Forests                   0.964115                  0.971292   \n",
              "\n",
              "   accuracy_vectorizer_tfid  \\\n",
              "0                    0.9689   \n",
              "\n",
              "                        best_params_vectorizer_count  \\\n",
              "0  {'n_estimators': 300, 'min_samples_split': 10,...   \n",
              "\n",
              "                         best_params_vectorizer_hash  \\\n",
              "0  {'n_estimators': 300, 'min_samples_split': 5, ...   \n",
              "\n",
              "                         best_params_vectorizer_tfid  \n",
              "0  {'n_estimators': 300, 'min_samples_split': 5, ...  "
            ]
          },
          "execution_count": 43,
          "metadata": {},
          "output_type": "execute_result"
        }
      ],
      "source": [
        "## RF\n",
        "model_1 = RandomForestClassifier(random_state=0)\n",
        "model_2 = RandomForestClassifier(random_state=0)\n",
        "model_3 = RandomForestClassifier(random_state=0)\n",
        "\n",
        "\n",
        "param_grid = {\n",
        "     'n_estimators': [100, 200, 300],\n",
        "     'max_depth': [None, 10, 20, 30],\n",
        "     'min_samples_split': [2, 5, 10],\n",
        "     'min_samples_leaf': [1, 2, 4]\n",
        " }\n",
        "\n",
        "\n",
        "random_search_1 = RandomizedSearchCV(estimator=model_1, param_distributions=param_grid, n_iter = 20,cv=5, scoring='accuracy')\n",
        "random_search_2 = RandomizedSearchCV(estimator=model_2, param_distributions=param_grid, n_iter = 20,cv=5, scoring='accuracy')\n",
        "random_search_3 = RandomizedSearchCV(estimator=model_3, param_distributions=param_grid, n_iter = 20,cv=5, scoring='accuracy')\n",
        "\n",
        "#\n",
        "random_search_1.fit(x_train_vectorized_1, y_train)\n",
        "random_search_2.fit(x_train_vectorized_2, y_train)\n",
        "random_search_3.fit(x_train_vectorized_3, y_train)\n",
        "\n",
        "#`best_params` and `best_score` store the best hyperparameters and their \n",
        "# corresponding accuracy score.\n",
        "best_params_1 = random_search_1.best_params_\n",
        "best_score_1 = random_search_1.best_score_\n",
        "best_params_2 = random_search_2.best_params_\n",
        "best_score_2 = random_search_2.best_score_\n",
        "best_params_3 = random_search_3.best_params_\n",
        "best_score_3 = random_search_3.best_score_\n",
        "\n",
        "#The `model` is updated with the best estimator found during the grid search, \n",
        "# which can be used for further analysis.\n",
        "model_1 = random_search_1.best_estimator_\n",
        "model_2 = random_search_2.best_estimator_\n",
        "model_3 = random_search_3.best_estimator_\n",
        "\n",
        "accuracy_1 = accuracy_score(y_test,model_1.predict(x_test_vectorized_1))\n",
        "accuracy_2 = accuracy_score(y_test,model_2.predict(x_test_vectorized_2))\n",
        "accuracy_3 = accuracy_score(y_test,model_3.predict(x_test_vectorized_3))\n",
        "\n",
        "\n",
        "new_df = pd.DataFrame(data={\"model\": [\"Random Forests\"], \"accuracy_vectorizer_count\": [accuracy_1], \n",
        "                            \"accuracy_vectorizer_hash\": [accuracy_2],\n",
        "                           \"accuracy_vectorizer_tfid\": [accuracy_3],\n",
        "                           \"best_params_vectorizer_count\": [str(best_params_1)],\n",
        "                           \"best_params_vectorizer_hash\": [str(best_params_2)],\n",
        "                           \"best_params_vectorizer_tfid\": [str(best_params_3)]})\n",
        "\n",
        "results_df = pd.concat([results_df,new_df], axis=0)\n",
        "results_df[results_df[\"model\"] == \"Random Forests\"]"
      ]
    },
    {
      "cell_type": "code",
      "execution_count": 44,
      "metadata": {},
      "outputs": [
        {
          "data": {
            "application/vnd.microsoft.datawrangler.viewer.v0+json": {
              "columns": [
                {
                  "name": "index",
                  "rawType": "int64",
                  "type": "integer"
                },
                {
                  "name": "model",
                  "rawType": "object",
                  "type": "string"
                },
                {
                  "name": "accuracy_vectorizer_count",
                  "rawType": "float64",
                  "type": "float"
                },
                {
                  "name": "accuracy_vectorizer_hash",
                  "rawType": "float64",
                  "type": "float"
                },
                {
                  "name": "accuracy_vectorizer_tfid",
                  "rawType": "float64",
                  "type": "float"
                },
                {
                  "name": "best_params_vectorizer_count",
                  "rawType": "object",
                  "type": "string"
                },
                {
                  "name": "best_params_vectorizer_hash",
                  "rawType": "object",
                  "type": "string"
                },
                {
                  "name": "best_params_vectorizer_tfid",
                  "rawType": "object",
                  "type": "string"
                }
              ],
              "ref": "72d747c6-bc68-4e72-ac1e-7584c45910db",
              "rows": [
                [
                  "0",
                  "XGBoost",
                  "0.9593301435406698",
                  "0.9712918660287081",
                  "0.9641148325358851",
                  "{'n_estimators': 300, 'max_depth': 3, 'learning_rate': 0.2}",
                  "{'n_estimators': 300, 'max_depth': 5, 'learning_rate': 0.2}",
                  "{'n_estimators': 100, 'max_depth': 4, 'learning_rate': 0.1}"
                ]
              ],
              "shape": {
                "columns": 7,
                "rows": 1
              }
            },
            "text/html": [
              "<div>\n",
              "<style scoped>\n",
              "    .dataframe tbody tr th:only-of-type {\n",
              "        vertical-align: middle;\n",
              "    }\n",
              "\n",
              "    .dataframe tbody tr th {\n",
              "        vertical-align: top;\n",
              "    }\n",
              "\n",
              "    .dataframe thead th {\n",
              "        text-align: right;\n",
              "    }\n",
              "</style>\n",
              "<table border=\"1\" class=\"dataframe\">\n",
              "  <thead>\n",
              "    <tr style=\"text-align: right;\">\n",
              "      <th></th>\n",
              "      <th>model</th>\n",
              "      <th>accuracy_vectorizer_count</th>\n",
              "      <th>accuracy_vectorizer_hash</th>\n",
              "      <th>accuracy_vectorizer_tfid</th>\n",
              "      <th>best_params_vectorizer_count</th>\n",
              "      <th>best_params_vectorizer_hash</th>\n",
              "      <th>best_params_vectorizer_tfid</th>\n",
              "    </tr>\n",
              "  </thead>\n",
              "  <tbody>\n",
              "    <tr>\n",
              "      <th>0</th>\n",
              "      <td>XGBoost</td>\n",
              "      <td>0.95933</td>\n",
              "      <td>0.971292</td>\n",
              "      <td>0.964115</td>\n",
              "      <td>{'n_estimators': 300, 'max_depth': 3, 'learnin...</td>\n",
              "      <td>{'n_estimators': 300, 'max_depth': 5, 'learnin...</td>\n",
              "      <td>{'n_estimators': 100, 'max_depth': 4, 'learnin...</td>\n",
              "    </tr>\n",
              "  </tbody>\n",
              "</table>\n",
              "</div>"
            ],
            "text/plain": [
              "     model  accuracy_vectorizer_count  accuracy_vectorizer_hash  \\\n",
              "0  XGBoost                    0.95933                  0.971292   \n",
              "\n",
              "   accuracy_vectorizer_tfid  \\\n",
              "0                  0.964115   \n",
              "\n",
              "                        best_params_vectorizer_count  \\\n",
              "0  {'n_estimators': 300, 'max_depth': 3, 'learnin...   \n",
              "\n",
              "                         best_params_vectorizer_hash  \\\n",
              "0  {'n_estimators': 300, 'max_depth': 5, 'learnin...   \n",
              "\n",
              "                         best_params_vectorizer_tfid  \n",
              "0  {'n_estimators': 100, 'max_depth': 4, 'learnin...  "
            ]
          },
          "execution_count": 44,
          "metadata": {},
          "output_type": "execute_result"
        }
      ],
      "source": [
        "## XGBoost\n",
        "model_1 = XGBClassifier()\n",
        "model_2 = XGBClassifier()\n",
        "model_3 = XGBClassifier()\n",
        "\n",
        "param_grid = {\n",
        "    'learning_rate': [0.01, 0.1, 0.2],\n",
        "     'n_estimators': [100, 200, 300],\n",
        "     'max_depth': [3, 4, 5]\n",
        "}\n",
        "\n",
        "\n",
        "\n",
        "random_search_1 = RandomizedSearchCV(estimator=model_1, param_distributions=param_grid, n_iter = 20,cv=5, scoring='accuracy')\n",
        "random_search_2 = RandomizedSearchCV(estimator=model_2, param_distributions=param_grid, n_iter = 20,cv=5, scoring='accuracy')\n",
        "random_search_3 = RandomizedSearchCV(estimator=model_3, param_distributions=param_grid, n_iter = 20,cv=5, scoring='accuracy')\n",
        "\n",
        "#\n",
        "random_search_1.fit(x_train_vectorized_1, y_train)\n",
        "random_search_2.fit(x_train_vectorized_2, y_train)\n",
        "random_search_3.fit(x_train_vectorized_3, y_train)\n",
        "\n",
        "#`best_params` and `best_score` store the best hyperparameters and their \n",
        "# corresponding accuracy score.\n",
        "best_params_1 = random_search_1.best_params_\n",
        "best_score_1 = random_search_1.best_score_\n",
        "best_params_2 = random_search_2.best_params_\n",
        "best_score_2 = random_search_2.best_score_\n",
        "best_params_3 = random_search_3.best_params_\n",
        "best_score_3 = random_search_3.best_score_\n",
        "\n",
        "#The `model` is updated with the best estimator found during the grid search, \n",
        "# which can be used for further analysis.\n",
        "model_1 = random_search_1.best_estimator_\n",
        "model_2 = random_search_2.best_estimator_\n",
        "model_3 = random_search_3.best_estimator_\n",
        "\n",
        "accuracy_1 = accuracy_score(y_test,model_1.predict(x_test_vectorized_1))\n",
        "accuracy_2 = accuracy_score(y_test,model_2.predict(x_test_vectorized_2))\n",
        "accuracy_3 = accuracy_score(y_test,model_3.predict(x_test_vectorized_3))\n",
        "\n",
        "\n",
        "new_df = pd.DataFrame(data={\"model\": [\"XGBoost\"], \"accuracy_vectorizer_count\": [accuracy_1], \n",
        "                            \"accuracy_vectorizer_hash\": [accuracy_2],\n",
        "                           \"accuracy_vectorizer_tfid\": [accuracy_3],\n",
        "                           \"best_params_vectorizer_count\": [str(best_params_1)],\n",
        "                           \"best_params_vectorizer_hash\": [str(best_params_2)],\n",
        "                           \"best_params_vectorizer_tfid\": [str(best_params_3)]})\n",
        "\n",
        "results_df = pd.concat([results_df,new_df], axis=0)\n",
        "results_df[results_df[\"model\"] == \"XGBoost\"]"
      ]
    },
    {
      "cell_type": "code",
      "execution_count": 45,
      "metadata": {},
      "outputs": [
        {
          "name": "stderr",
          "output_type": "stream",
          "text": [
            "d:\\KTH\\Applied Artificial Intelligence in Transportation\\AH2179-Lab_2\\.venv\\Lib\\site-packages\\sklearn\\model_selection\\_search.py:317: UserWarning: The total space of parameters 9 is smaller than n_iter=20. Running 9 iterations. For exhaustive searches, use GridSearchCV.\n",
            "  warnings.warn(\n",
            "d:\\KTH\\Applied Artificial Intelligence in Transportation\\AH2179-Lab_2\\.venv\\Lib\\site-packages\\sklearn\\model_selection\\_search.py:317: UserWarning: The total space of parameters 9 is smaller than n_iter=20. Running 9 iterations. For exhaustive searches, use GridSearchCV.\n",
            "  warnings.warn(\n",
            "d:\\KTH\\Applied Artificial Intelligence in Transportation\\AH2179-Lab_2\\.venv\\Lib\\site-packages\\sklearn\\model_selection\\_search.py:317: UserWarning: The total space of parameters 9 is smaller than n_iter=20. Running 9 iterations. For exhaustive searches, use GridSearchCV.\n",
            "  warnings.warn(\n"
          ]
        },
        {
          "data": {
            "application/vnd.microsoft.datawrangler.viewer.v0+json": {
              "columns": [
                {
                  "name": "index",
                  "rawType": "int64",
                  "type": "integer"
                },
                {
                  "name": "model",
                  "rawType": "object",
                  "type": "string"
                },
                {
                  "name": "accuracy_vectorizer_count",
                  "rawType": "float64",
                  "type": "float"
                },
                {
                  "name": "accuracy_vectorizer_hash",
                  "rawType": "float64",
                  "type": "float"
                },
                {
                  "name": "accuracy_vectorizer_tfid",
                  "rawType": "float64",
                  "type": "float"
                },
                {
                  "name": "best_params_vectorizer_count",
                  "rawType": "object",
                  "type": "string"
                },
                {
                  "name": "best_params_vectorizer_hash",
                  "rawType": "object",
                  "type": "string"
                },
                {
                  "name": "best_params_vectorizer_tfid",
                  "rawType": "object",
                  "type": "string"
                }
              ],
              "ref": "580604ca-0129-48d6-a3cd-cd75425d75da",
              "rows": [
                [
                  "0",
                  "SVM",
                  "0.9569377990430622",
                  "0.9712918660287081",
                  "0.9593301435406698",
                  "{'kernel': 'rbf', 'C': 10}",
                  "{'kernel': 'rbf', 'C': 10}",
                  "{'kernel': 'rbf', 'C': 0.1}"
                ]
              ],
              "shape": {
                "columns": 7,
                "rows": 1
              }
            },
            "text/html": [
              "<div>\n",
              "<style scoped>\n",
              "    .dataframe tbody tr th:only-of-type {\n",
              "        vertical-align: middle;\n",
              "    }\n",
              "\n",
              "    .dataframe tbody tr th {\n",
              "        vertical-align: top;\n",
              "    }\n",
              "\n",
              "    .dataframe thead th {\n",
              "        text-align: right;\n",
              "    }\n",
              "</style>\n",
              "<table border=\"1\" class=\"dataframe\">\n",
              "  <thead>\n",
              "    <tr style=\"text-align: right;\">\n",
              "      <th></th>\n",
              "      <th>model</th>\n",
              "      <th>accuracy_vectorizer_count</th>\n",
              "      <th>accuracy_vectorizer_hash</th>\n",
              "      <th>accuracy_vectorizer_tfid</th>\n",
              "      <th>best_params_vectorizer_count</th>\n",
              "      <th>best_params_vectorizer_hash</th>\n",
              "      <th>best_params_vectorizer_tfid</th>\n",
              "    </tr>\n",
              "  </thead>\n",
              "  <tbody>\n",
              "    <tr>\n",
              "      <th>0</th>\n",
              "      <td>SVM</td>\n",
              "      <td>0.956938</td>\n",
              "      <td>0.971292</td>\n",
              "      <td>0.95933</td>\n",
              "      <td>{'kernel': 'rbf', 'C': 10}</td>\n",
              "      <td>{'kernel': 'rbf', 'C': 10}</td>\n",
              "      <td>{'kernel': 'rbf', 'C': 0.1}</td>\n",
              "    </tr>\n",
              "  </tbody>\n",
              "</table>\n",
              "</div>"
            ],
            "text/plain": [
              "  model  accuracy_vectorizer_count  accuracy_vectorizer_hash  \\\n",
              "0   SVM                   0.956938                  0.971292   \n",
              "\n",
              "   accuracy_vectorizer_tfid best_params_vectorizer_count  \\\n",
              "0                   0.95933   {'kernel': 'rbf', 'C': 10}   \n",
              "\n",
              "  best_params_vectorizer_hash  best_params_vectorizer_tfid  \n",
              "0  {'kernel': 'rbf', 'C': 10}  {'kernel': 'rbf', 'C': 0.1}  "
            ]
          },
          "execution_count": 45,
          "metadata": {},
          "output_type": "execute_result"
        }
      ],
      "source": [
        "## SVM\n",
        "model_1 = SVC(probability=True)\n",
        "model_2 = SVC(probability=True)\n",
        "model_3 = SVC(probability=True)\n",
        "\n",
        "param_grid = {'kernel': ['linear', 'rbf', 'poly'],'C': [0.1, 1, 10]}\n",
        "\n",
        "\n",
        "random_search_1 = RandomizedSearchCV(estimator=model_1, param_distributions=param_grid, n_iter = 20,cv=5, scoring='accuracy')\n",
        "random_search_2 = RandomizedSearchCV(estimator=model_2, param_distributions=param_grid, n_iter = 20,cv=5, scoring='accuracy')\n",
        "random_search_3 = RandomizedSearchCV(estimator=model_3, param_distributions=param_grid, n_iter = 20,cv=5, scoring='accuracy')\n",
        "\n",
        "#\n",
        "random_search_1.fit(x_train_vectorized_1, y_train)\n",
        "random_search_2.fit(x_train_vectorized_2, y_train)\n",
        "random_search_3.fit(x_train_vectorized_3, y_train)\n",
        "\n",
        "#`best_params` and `best_score` store the best hyperparameters and their \n",
        "# corresponding accuracy score.\n",
        "best_params_1 = random_search_1.best_params_\n",
        "best_score_1 = random_search_1.best_score_\n",
        "best_params_2 = random_search_2.best_params_\n",
        "best_score_2 = random_search_2.best_score_\n",
        "best_params_3 = random_search_3.best_params_\n",
        "best_score_3 = random_search_3.best_score_\n",
        "\n",
        "#The `model` is updated with the best estimator found during the grid search, \n",
        "# which can be used for further analysis.\n",
        "model_1 = random_search_1.best_estimator_\n",
        "model_2 = random_search_2.best_estimator_\n",
        "model_3 = random_search_3.best_estimator_\n",
        "\n",
        "accuracy_1 = accuracy_score(y_test,model_1.predict(x_test_vectorized_1))\n",
        "accuracy_2 = accuracy_score(y_test,model_2.predict(x_test_vectorized_2))\n",
        "accuracy_3 = accuracy_score(y_test,model_3.predict(x_test_vectorized_3))\n",
        "\n",
        "\n",
        "new_df = pd.DataFrame(data={\"model\": [\"SVM\"], \"accuracy_vectorizer_count\": [accuracy_1], \n",
        "                            \"accuracy_vectorizer_hash\": [accuracy_2],\n",
        "                           \"accuracy_vectorizer_tfid\": [accuracy_3],\n",
        "                           \"best_params_vectorizer_count\": [str(best_params_1)],\n",
        "                           \"best_params_vectorizer_hash\": [str(best_params_2)],\n",
        "                           \"best_params_vectorizer_tfid\": [str(best_params_3)]})\n",
        "\n",
        "results_df = pd.concat([results_df,new_df], axis=0)\n",
        "results_df[results_df[\"model\"] == \"SVM\"]"
      ]
    },
    {
      "cell_type": "code",
      "execution_count": 62,
      "metadata": {},
      "outputs": [
        {
          "name": "stderr",
          "output_type": "stream",
          "text": [
            "d:\\KTH\\Applied Artificial Intelligence in Transportation\\AH2179-Lab_2\\.venv\\Lib\\site-packages\\sklearn\\model_selection\\_search.py:317: UserWarning: The total space of parameters 6 is smaller than n_iter=20. Running 6 iterations. For exhaustive searches, use GridSearchCV.\n",
            "  warnings.warn(\n",
            "d:\\KTH\\Applied Artificial Intelligence in Transportation\\AH2179-Lab_2\\.venv\\Lib\\site-packages\\sklearn\\model_selection\\_search.py:317: UserWarning: The total space of parameters 6 is smaller than n_iter=20. Running 6 iterations. For exhaustive searches, use GridSearchCV.\n",
            "  warnings.warn(\n",
            "d:\\KTH\\Applied Artificial Intelligence in Transportation\\AH2179-Lab_2\\.venv\\Lib\\site-packages\\sklearn\\model_selection\\_search.py:317: UserWarning: The total space of parameters 6 is smaller than n_iter=20. Running 6 iterations. For exhaustive searches, use GridSearchCV.\n",
            "  warnings.warn(\n"
          ]
        },
        {
          "data": {
            "application/vnd.microsoft.datawrangler.viewer.v0+json": {
              "columns": [
                {
                  "name": "index",
                  "rawType": "int64",
                  "type": "integer"
                },
                {
                  "name": "model",
                  "rawType": "object",
                  "type": "string"
                },
                {
                  "name": "accuracy_vectorizer_count",
                  "rawType": "float64",
                  "type": "float"
                },
                {
                  "name": "accuracy_vectorizer_hash",
                  "rawType": "float64",
                  "type": "float"
                },
                {
                  "name": "accuracy_vectorizer_tfid",
                  "rawType": "float64",
                  "type": "float"
                },
                {
                  "name": "best_params_vectorizer_count",
                  "rawType": "object",
                  "type": "string"
                },
                {
                  "name": "best_params_vectorizer_hash",
                  "rawType": "object",
                  "type": "string"
                },
                {
                  "name": "best_params_vectorizer_tfid",
                  "rawType": "object",
                  "type": "string"
                }
              ],
              "ref": "56b1c47e-12de-4277-a367-4832042342ac",
              "rows": [
                [
                  "0",
                  "Naive Bayes",
                  "0.9425837320574163",
                  "0.8349282296650717",
                  "0.9401913875598086",
                  "{'force_alpha': True, 'alpha': 1}",
                  "{'force_alpha': True, 'alpha': 1}",
                  "{'force_alpha': True, 'alpha': 1}"
                ]
              ],
              "shape": {
                "columns": 7,
                "rows": 1
              }
            },
            "text/html": [
              "<div>\n",
              "<style scoped>\n",
              "    .dataframe tbody tr th:only-of-type {\n",
              "        vertical-align: middle;\n",
              "    }\n",
              "\n",
              "    .dataframe tbody tr th {\n",
              "        vertical-align: top;\n",
              "    }\n",
              "\n",
              "    .dataframe thead th {\n",
              "        text-align: right;\n",
              "    }\n",
              "</style>\n",
              "<table border=\"1\" class=\"dataframe\">\n",
              "  <thead>\n",
              "    <tr style=\"text-align: right;\">\n",
              "      <th></th>\n",
              "      <th>model</th>\n",
              "      <th>accuracy_vectorizer_count</th>\n",
              "      <th>accuracy_vectorizer_hash</th>\n",
              "      <th>accuracy_vectorizer_tfid</th>\n",
              "      <th>best_params_vectorizer_count</th>\n",
              "      <th>best_params_vectorizer_hash</th>\n",
              "      <th>best_params_vectorizer_tfid</th>\n",
              "    </tr>\n",
              "  </thead>\n",
              "  <tbody>\n",
              "    <tr>\n",
              "      <th>0</th>\n",
              "      <td>Naive Bayes</td>\n",
              "      <td>0.942584</td>\n",
              "      <td>0.834928</td>\n",
              "      <td>0.940191</td>\n",
              "      <td>{'force_alpha': True, 'alpha': 1}</td>\n",
              "      <td>{'force_alpha': True, 'alpha': 1}</td>\n",
              "      <td>{'force_alpha': True, 'alpha': 1}</td>\n",
              "    </tr>\n",
              "  </tbody>\n",
              "</table>\n",
              "</div>"
            ],
            "text/plain": [
              "         model  accuracy_vectorizer_count  accuracy_vectorizer_hash  \\\n",
              "0  Naive Bayes                   0.942584                  0.834928   \n",
              "\n",
              "   accuracy_vectorizer_tfid       best_params_vectorizer_count  \\\n",
              "0                  0.940191  {'force_alpha': True, 'alpha': 1}   \n",
              "\n",
              "         best_params_vectorizer_hash        best_params_vectorizer_tfid  \n",
              "0  {'force_alpha': True, 'alpha': 1}  {'force_alpha': True, 'alpha': 1}  "
            ]
          },
          "execution_count": 62,
          "metadata": {},
          "output_type": "execute_result"
        }
      ],
      "source": [
        "## Naive Bayes\n",
        "model_1 = BernoulliNB()\n",
        "model_2 = BernoulliNB()\n",
        "model_3 = BernoulliNB()\n",
        "\n",
        "param_grid = {'alpha': [0.1, 0.5, 1],'force_alpha': [True,False]}\n",
        "\n",
        "\n",
        "\n",
        "random_search_1 = RandomizedSearchCV(estimator=model_1, param_distributions=param_grid, n_iter = 20,cv=5, scoring='accuracy')\n",
        "random_search_2 = RandomizedSearchCV(estimator=model_2, param_distributions=param_grid, n_iter = 20,cv=5, scoring='accuracy')\n",
        "random_search_3 = RandomizedSearchCV(estimator=model_3, param_distributions=param_grid, n_iter = 20,cv=5, scoring='accuracy')\n",
        "\n",
        "#\n",
        "random_search_1.fit(x_train_vectorized_1, y_train)\n",
        "random_search_2.fit(x_train_vectorized_2, y_train)\n",
        "random_search_3.fit(x_train_vectorized_3, y_train)\n",
        "\n",
        "#`best_params` and `best_score` store the best hyperparameters and their \n",
        "# corresponding accuracy score.\n",
        "best_params_1 = random_search_1.best_params_\n",
        "best_score_1 = random_search_1.best_score_\n",
        "best_params_2 = random_search_2.best_params_\n",
        "best_score_2 = random_search_2.best_score_\n",
        "best_params_3 = random_search_3.best_params_\n",
        "best_score_3 = random_search_3.best_score_\n",
        "\n",
        "#The `model` is updated with the best estimator found during the grid search, \n",
        "# which can be used for further analysis.\n",
        "model_1 = random_search_1.best_estimator_\n",
        "model_2 = random_search_2.best_estimator_\n",
        "model_3 = random_search_3.best_estimator_\n",
        "\n",
        "accuracy_1 = accuracy_score(y_test,model_1.predict(x_test_vectorized_1))\n",
        "accuracy_2 = accuracy_score(y_test,model_2.predict(x_test_vectorized_2))\n",
        "accuracy_3 = accuracy_score(y_test,model_3.predict(x_test_vectorized_3))\n",
        "\n",
        "\n",
        "new_df = pd.DataFrame(data={\"model\": [\"Naive Bayes\"], \"accuracy_vectorizer_count\": [accuracy_1], \n",
        "                            \"accuracy_vectorizer_hash\": [accuracy_2],\n",
        "                           \"accuracy_vectorizer_tfid\": [accuracy_3],\n",
        "                           \"best_params_vectorizer_count\": [str(best_params_1)],\n",
        "                           \"best_params_vectorizer_hash\": [str(best_params_2)],\n",
        "                           \"best_params_vectorizer_tfid\": [str(best_params_3)]})\n",
        "\n",
        "results_df = pd.concat([results_df,new_df], axis=0)\n",
        "results_df[results_df[\"model\"] == \"Naive Bayes\"]"
      ]
    },
    {
      "cell_type": "code",
      "execution_count": 63,
      "metadata": {},
      "outputs": [
        {
          "data": {
            "application/vnd.microsoft.datawrangler.viewer.v0+json": {
              "columns": [
                {
                  "name": "index",
                  "rawType": "int64",
                  "type": "integer"
                },
                {
                  "name": "model",
                  "rawType": "object",
                  "type": "string"
                },
                {
                  "name": "accuracy_vectorizer_count",
                  "rawType": "float64",
                  "type": "float"
                },
                {
                  "name": "accuracy_vectorizer_hash",
                  "rawType": "float64",
                  "type": "float"
                },
                {
                  "name": "accuracy_vectorizer_tfid",
                  "rawType": "float64",
                  "type": "float"
                },
                {
                  "name": "best_params_vectorizer_count",
                  "rawType": "object",
                  "type": "string"
                },
                {
                  "name": "best_params_vectorizer_hash",
                  "rawType": "object",
                  "type": "string"
                },
                {
                  "name": "best_params_vectorizer_tfid",
                  "rawType": "object",
                  "type": "string"
                }
              ],
              "ref": "3a0cb928-318f-4b1c-9287-acb744f8feda",
              "rows": [
                [
                  "0",
                  "Logistic Regression",
                  "0.937799043062201",
                  "0.9497607655502392",
                  "0.9545454545454546",
                  "{'C': 1}",
                  "{'C': 10}",
                  "{'C': 0.1}"
                ],
                [
                  "0",
                  "KNN",
                  "0.9258373205741627",
                  "0.9521531100478469",
                  "0.9090909090909091",
                  "{'weights': 'uniform', 'n_neighbors': 5}",
                  "{'weights': 'uniform', 'n_neighbors': 9}",
                  "{'weights': 'distance', 'n_neighbors': 5}"
                ],
                [
                  "0",
                  "Random Forests",
                  "0.9641148325358851",
                  "0.9712918660287081",
                  "0.9688995215311005",
                  "{'n_estimators': 300, 'min_samples_split': 10, 'min_samples_leaf': 1, 'max_depth': None}",
                  "{'n_estimators': 300, 'min_samples_split': 5, 'min_samples_leaf': 2, 'max_depth': 30}",
                  "{'n_estimators': 300, 'min_samples_split': 5, 'min_samples_leaf': 1, 'max_depth': None}"
                ],
                [
                  "0",
                  "XGBoost",
                  "0.9593301435406698",
                  "0.9712918660287081",
                  "0.9641148325358851",
                  "{'n_estimators': 300, 'max_depth': 3, 'learning_rate': 0.2}",
                  "{'n_estimators': 300, 'max_depth': 5, 'learning_rate': 0.2}",
                  "{'n_estimators': 100, 'max_depth': 4, 'learning_rate': 0.1}"
                ],
                [
                  "0",
                  "SVM",
                  "0.9569377990430622",
                  "0.9712918660287081",
                  "0.9593301435406698",
                  "{'kernel': 'rbf', 'C': 10}",
                  "{'kernel': 'rbf', 'C': 10}",
                  "{'kernel': 'rbf', 'C': 0.1}"
                ],
                [
                  "0",
                  "Naive Bayes",
                  "0.9425837320574163",
                  "0.8349282296650717",
                  "0.9401913875598086",
                  "{'force_alpha': True, 'alpha': 1}",
                  "{'force_alpha': True, 'alpha': 1}",
                  "{'force_alpha': True, 'alpha': 1}"
                ]
              ],
              "shape": {
                "columns": 7,
                "rows": 6
              }
            },
            "text/html": [
              "<div>\n",
              "<style scoped>\n",
              "    .dataframe tbody tr th:only-of-type {\n",
              "        vertical-align: middle;\n",
              "    }\n",
              "\n",
              "    .dataframe tbody tr th {\n",
              "        vertical-align: top;\n",
              "    }\n",
              "\n",
              "    .dataframe thead th {\n",
              "        text-align: right;\n",
              "    }\n",
              "</style>\n",
              "<table border=\"1\" class=\"dataframe\">\n",
              "  <thead>\n",
              "    <tr style=\"text-align: right;\">\n",
              "      <th></th>\n",
              "      <th>model</th>\n",
              "      <th>accuracy_vectorizer_count</th>\n",
              "      <th>accuracy_vectorizer_hash</th>\n",
              "      <th>accuracy_vectorizer_tfid</th>\n",
              "      <th>best_params_vectorizer_count</th>\n",
              "      <th>best_params_vectorizer_hash</th>\n",
              "      <th>best_params_vectorizer_tfid</th>\n",
              "    </tr>\n",
              "  </thead>\n",
              "  <tbody>\n",
              "    <tr>\n",
              "      <th>0</th>\n",
              "      <td>Logistic Regression</td>\n",
              "      <td>0.937799</td>\n",
              "      <td>0.949761</td>\n",
              "      <td>0.954545</td>\n",
              "      <td>{'C': 1}</td>\n",
              "      <td>{'C': 10}</td>\n",
              "      <td>{'C': 0.1}</td>\n",
              "    </tr>\n",
              "    <tr>\n",
              "      <th>0</th>\n",
              "      <td>KNN</td>\n",
              "      <td>0.925837</td>\n",
              "      <td>0.952153</td>\n",
              "      <td>0.909091</td>\n",
              "      <td>{'weights': 'uniform', 'n_neighbors': 5}</td>\n",
              "      <td>{'weights': 'uniform', 'n_neighbors': 9}</td>\n",
              "      <td>{'weights': 'distance', 'n_neighbors': 5}</td>\n",
              "    </tr>\n",
              "    <tr>\n",
              "      <th>0</th>\n",
              "      <td>Random Forests</td>\n",
              "      <td>0.964115</td>\n",
              "      <td>0.971292</td>\n",
              "      <td>0.968900</td>\n",
              "      <td>{'n_estimators': 300, 'min_samples_split': 10,...</td>\n",
              "      <td>{'n_estimators': 300, 'min_samples_split': 5, ...</td>\n",
              "      <td>{'n_estimators': 300, 'min_samples_split': 5, ...</td>\n",
              "    </tr>\n",
              "    <tr>\n",
              "      <th>0</th>\n",
              "      <td>XGBoost</td>\n",
              "      <td>0.959330</td>\n",
              "      <td>0.971292</td>\n",
              "      <td>0.964115</td>\n",
              "      <td>{'n_estimators': 300, 'max_depth': 3, 'learnin...</td>\n",
              "      <td>{'n_estimators': 300, 'max_depth': 5, 'learnin...</td>\n",
              "      <td>{'n_estimators': 100, 'max_depth': 4, 'learnin...</td>\n",
              "    </tr>\n",
              "    <tr>\n",
              "      <th>0</th>\n",
              "      <td>SVM</td>\n",
              "      <td>0.956938</td>\n",
              "      <td>0.971292</td>\n",
              "      <td>0.959330</td>\n",
              "      <td>{'kernel': 'rbf', 'C': 10}</td>\n",
              "      <td>{'kernel': 'rbf', 'C': 10}</td>\n",
              "      <td>{'kernel': 'rbf', 'C': 0.1}</td>\n",
              "    </tr>\n",
              "    <tr>\n",
              "      <th>0</th>\n",
              "      <td>Naive Bayes</td>\n",
              "      <td>0.942584</td>\n",
              "      <td>0.834928</td>\n",
              "      <td>0.940191</td>\n",
              "      <td>{'force_alpha': True, 'alpha': 1}</td>\n",
              "      <td>{'force_alpha': True, 'alpha': 1}</td>\n",
              "      <td>{'force_alpha': True, 'alpha': 1}</td>\n",
              "    </tr>\n",
              "  </tbody>\n",
              "</table>\n",
              "</div>"
            ],
            "text/plain": [
              "                 model  accuracy_vectorizer_count  accuracy_vectorizer_hash  \\\n",
              "0  Logistic Regression                   0.937799                  0.949761   \n",
              "0                  KNN                   0.925837                  0.952153   \n",
              "0       Random Forests                   0.964115                  0.971292   \n",
              "0              XGBoost                   0.959330                  0.971292   \n",
              "0                  SVM                   0.956938                  0.971292   \n",
              "0          Naive Bayes                   0.942584                  0.834928   \n",
              "\n",
              "   accuracy_vectorizer_tfid  \\\n",
              "0                  0.954545   \n",
              "0                  0.909091   \n",
              "0                  0.968900   \n",
              "0                  0.964115   \n",
              "0                  0.959330   \n",
              "0                  0.940191   \n",
              "\n",
              "                        best_params_vectorizer_count  \\\n",
              "0                                           {'C': 1}   \n",
              "0           {'weights': 'uniform', 'n_neighbors': 5}   \n",
              "0  {'n_estimators': 300, 'min_samples_split': 10,...   \n",
              "0  {'n_estimators': 300, 'max_depth': 3, 'learnin...   \n",
              "0                         {'kernel': 'rbf', 'C': 10}   \n",
              "0                  {'force_alpha': True, 'alpha': 1}   \n",
              "\n",
              "                         best_params_vectorizer_hash  \\\n",
              "0                                          {'C': 10}   \n",
              "0           {'weights': 'uniform', 'n_neighbors': 9}   \n",
              "0  {'n_estimators': 300, 'min_samples_split': 5, ...   \n",
              "0  {'n_estimators': 300, 'max_depth': 5, 'learnin...   \n",
              "0                         {'kernel': 'rbf', 'C': 10}   \n",
              "0                  {'force_alpha': True, 'alpha': 1}   \n",
              "\n",
              "                         best_params_vectorizer_tfid  \n",
              "0                                         {'C': 0.1}  \n",
              "0          {'weights': 'distance', 'n_neighbors': 5}  \n",
              "0  {'n_estimators': 300, 'min_samples_split': 5, ...  \n",
              "0  {'n_estimators': 100, 'max_depth': 4, 'learnin...  \n",
              "0                        {'kernel': 'rbf', 'C': 0.1}  \n",
              "0                  {'force_alpha': True, 'alpha': 1}  "
            ]
          },
          "execution_count": 63,
          "metadata": {},
          "output_type": "execute_result"
        }
      ],
      "source": [
        "results_df"
      ]
    },
    {
      "cell_type": "code",
      "execution_count": 64,
      "metadata": {},
      "outputs": [
        {
          "data": {
            "application/vnd.microsoft.datawrangler.viewer.v0+json": {
              "columns": [
                {
                  "name": "index",
                  "rawType": "int64",
                  "type": "integer"
                },
                {
                  "name": "model",
                  "rawType": "object",
                  "type": "string"
                },
                {
                  "name": "accuracy_vectorizer_count",
                  "rawType": "float64",
                  "type": "float"
                },
                {
                  "name": "accuracy_vectorizer_hash",
                  "rawType": "float64",
                  "type": "float"
                },
                {
                  "name": "accuracy_vectorizer_tfid",
                  "rawType": "float64",
                  "type": "float"
                }
              ],
              "ref": "59a2828c-7de5-4fb8-8ea6-05401a67ba77",
              "rows": [
                [
                  "0",
                  "Logistic Regression",
                  "0.9378",
                  "0.9498",
                  "0.9545"
                ],
                [
                  "0",
                  "KNN",
                  "0.9258",
                  "0.9522",
                  "0.9091"
                ],
                [
                  "0",
                  "Random Forests",
                  "0.9641",
                  "0.9713",
                  "0.9689"
                ],
                [
                  "0",
                  "XGBoost",
                  "0.9593",
                  "0.9713",
                  "0.9641"
                ],
                [
                  "0",
                  "SVM",
                  "0.9569",
                  "0.9713",
                  "0.9593"
                ],
                [
                  "0",
                  "Naive Bayes",
                  "0.9426",
                  "0.8349",
                  "0.9402"
                ]
              ],
              "shape": {
                "columns": 4,
                "rows": 6
              }
            },
            "text/html": [
              "<div>\n",
              "<style scoped>\n",
              "    .dataframe tbody tr th:only-of-type {\n",
              "        vertical-align: middle;\n",
              "    }\n",
              "\n",
              "    .dataframe tbody tr th {\n",
              "        vertical-align: top;\n",
              "    }\n",
              "\n",
              "    .dataframe thead th {\n",
              "        text-align: right;\n",
              "    }\n",
              "</style>\n",
              "<table border=\"1\" class=\"dataframe\">\n",
              "  <thead>\n",
              "    <tr style=\"text-align: right;\">\n",
              "      <th></th>\n",
              "      <th>model</th>\n",
              "      <th>accuracy_vectorizer_count</th>\n",
              "      <th>accuracy_vectorizer_hash</th>\n",
              "      <th>accuracy_vectorizer_tfid</th>\n",
              "    </tr>\n",
              "  </thead>\n",
              "  <tbody>\n",
              "    <tr>\n",
              "      <th>0</th>\n",
              "      <td>Logistic Regression</td>\n",
              "      <td>0.9378</td>\n",
              "      <td>0.9498</td>\n",
              "      <td>0.9545</td>\n",
              "    </tr>\n",
              "    <tr>\n",
              "      <th>0</th>\n",
              "      <td>KNN</td>\n",
              "      <td>0.9258</td>\n",
              "      <td>0.9522</td>\n",
              "      <td>0.9091</td>\n",
              "    </tr>\n",
              "    <tr>\n",
              "      <th>0</th>\n",
              "      <td>Random Forests</td>\n",
              "      <td>0.9641</td>\n",
              "      <td>0.9713</td>\n",
              "      <td>0.9689</td>\n",
              "    </tr>\n",
              "    <tr>\n",
              "      <th>0</th>\n",
              "      <td>XGBoost</td>\n",
              "      <td>0.9593</td>\n",
              "      <td>0.9713</td>\n",
              "      <td>0.9641</td>\n",
              "    </tr>\n",
              "    <tr>\n",
              "      <th>0</th>\n",
              "      <td>SVM</td>\n",
              "      <td>0.9569</td>\n",
              "      <td>0.9713</td>\n",
              "      <td>0.9593</td>\n",
              "    </tr>\n",
              "    <tr>\n",
              "      <th>0</th>\n",
              "      <td>Naive Bayes</td>\n",
              "      <td>0.9426</td>\n",
              "      <td>0.8349</td>\n",
              "      <td>0.9402</td>\n",
              "    </tr>\n",
              "  </tbody>\n",
              "</table>\n",
              "</div>"
            ],
            "text/plain": [
              "                 model  accuracy_vectorizer_count  accuracy_vectorizer_hash  \\\n",
              "0  Logistic Regression                     0.9378                    0.9498   \n",
              "0                  KNN                     0.9258                    0.9522   \n",
              "0       Random Forests                     0.9641                    0.9713   \n",
              "0              XGBoost                     0.9593                    0.9713   \n",
              "0                  SVM                     0.9569                    0.9713   \n",
              "0          Naive Bayes                     0.9426                    0.8349   \n",
              "\n",
              "   accuracy_vectorizer_tfid  \n",
              "0                    0.9545  \n",
              "0                    0.9091  \n",
              "0                    0.9689  \n",
              "0                    0.9641  \n",
              "0                    0.9593  \n",
              "0                    0.9402  "
            ]
          },
          "execution_count": 64,
          "metadata": {},
          "output_type": "execute_result"
        }
      ],
      "source": [
        "accuracy_df = results_df.round(4)[[\"model\", \"accuracy_vectorizer_count\",\"accuracy_vectorizer_hash\",\"accuracy_vectorizer_tfid\" ]]\n",
        "accuracy_df"
      ]
    },
    {
      "cell_type": "code",
      "execution_count": 60,
      "metadata": {},
      "outputs": [
        {
          "data": {
            "application/vnd.microsoft.datawrangler.viewer.v0+json": {
              "columns": [
                {
                  "name": "index",
                  "rawType": "object",
                  "type": "string"
                },
                {
                  "name": "accuracy_vectorizer_count",
                  "rawType": "float64",
                  "type": "float"
                },
                {
                  "name": "accuracy_vectorizer_hash",
                  "rawType": "float64",
                  "type": "float"
                },
                {
                  "name": "accuracy_vectorizer_tfid",
                  "rawType": "float64",
                  "type": "float"
                }
              ],
              "ref": "6c338814-347e-4eae-b081-bebd487e9a27",
              "rows": [
                [
                  "count",
                  "5.0",
                  "5.0",
                  "5.0"
                ],
                [
                  "mean",
                  "0.94878",
                  "0.9631800000000001",
                  "0.9511799999999999"
                ],
                [
                  "std",
                  "0.016278421299376684",
                  "0.011151098600586424",
                  "0.0241278262593214"
                ],
                [
                  "min",
                  "0.9258",
                  "0.9498",
                  "0.9091"
                ],
                [
                  "25%",
                  "0.9378",
                  "0.9522",
                  "0.9545"
                ],
                [
                  "50%",
                  "0.9569",
                  "0.9713",
                  "0.9593"
                ],
                [
                  "75%",
                  "0.9593",
                  "0.9713",
                  "0.9641"
                ],
                [
                  "max",
                  "0.9641",
                  "0.9713",
                  "0.9689"
                ]
              ],
              "shape": {
                "columns": 3,
                "rows": 8
              }
            },
            "text/html": [
              "<div>\n",
              "<style scoped>\n",
              "    .dataframe tbody tr th:only-of-type {\n",
              "        vertical-align: middle;\n",
              "    }\n",
              "\n",
              "    .dataframe tbody tr th {\n",
              "        vertical-align: top;\n",
              "    }\n",
              "\n",
              "    .dataframe thead th {\n",
              "        text-align: right;\n",
              "    }\n",
              "</style>\n",
              "<table border=\"1\" class=\"dataframe\">\n",
              "  <thead>\n",
              "    <tr style=\"text-align: right;\">\n",
              "      <th></th>\n",
              "      <th>accuracy_vectorizer_count</th>\n",
              "      <th>accuracy_vectorizer_hash</th>\n",
              "      <th>accuracy_vectorizer_tfid</th>\n",
              "    </tr>\n",
              "  </thead>\n",
              "  <tbody>\n",
              "    <tr>\n",
              "      <th>count</th>\n",
              "      <td>5.000000</td>\n",
              "      <td>5.000000</td>\n",
              "      <td>5.000000</td>\n",
              "    </tr>\n",
              "    <tr>\n",
              "      <th>mean</th>\n",
              "      <td>0.948780</td>\n",
              "      <td>0.963180</td>\n",
              "      <td>0.951180</td>\n",
              "    </tr>\n",
              "    <tr>\n",
              "      <th>std</th>\n",
              "      <td>0.016278</td>\n",
              "      <td>0.011151</td>\n",
              "      <td>0.024128</td>\n",
              "    </tr>\n",
              "    <tr>\n",
              "      <th>min</th>\n",
              "      <td>0.925800</td>\n",
              "      <td>0.949800</td>\n",
              "      <td>0.909100</td>\n",
              "    </tr>\n",
              "    <tr>\n",
              "      <th>25%</th>\n",
              "      <td>0.937800</td>\n",
              "      <td>0.952200</td>\n",
              "      <td>0.954500</td>\n",
              "    </tr>\n",
              "    <tr>\n",
              "      <th>50%</th>\n",
              "      <td>0.956900</td>\n",
              "      <td>0.971300</td>\n",
              "      <td>0.959300</td>\n",
              "    </tr>\n",
              "    <tr>\n",
              "      <th>75%</th>\n",
              "      <td>0.959300</td>\n",
              "      <td>0.971300</td>\n",
              "      <td>0.964100</td>\n",
              "    </tr>\n",
              "    <tr>\n",
              "      <th>max</th>\n",
              "      <td>0.964100</td>\n",
              "      <td>0.971300</td>\n",
              "      <td>0.968900</td>\n",
              "    </tr>\n",
              "  </tbody>\n",
              "</table>\n",
              "</div>"
            ],
            "text/plain": [
              "       accuracy_vectorizer_count  accuracy_vectorizer_hash  \\\n",
              "count                   5.000000                  5.000000   \n",
              "mean                    0.948780                  0.963180   \n",
              "std                     0.016278                  0.011151   \n",
              "min                     0.925800                  0.949800   \n",
              "25%                     0.937800                  0.952200   \n",
              "50%                     0.956900                  0.971300   \n",
              "75%                     0.959300                  0.971300   \n",
              "max                     0.964100                  0.971300   \n",
              "\n",
              "       accuracy_vectorizer_tfid  \n",
              "count                  5.000000  \n",
              "mean                   0.951180  \n",
              "std                    0.024128  \n",
              "min                    0.909100  \n",
              "25%                    0.954500  \n",
              "50%                    0.959300  \n",
              "75%                    0.964100  \n",
              "max                    0.968900  "
            ]
          },
          "execution_count": 60,
          "metadata": {},
          "output_type": "execute_result"
        }
      ],
      "source": [
        "accuracy_df.describe()"
      ]
    },
    {
      "cell_type": "code",
      "execution_count": 65,
      "metadata": {},
      "outputs": [
        {
          "data": {
            "application/vnd.microsoft.datawrangler.viewer.v0+json": {
              "columns": [
                {
                  "name": "index",
                  "rawType": "int64",
                  "type": "integer"
                },
                {
                  "name": "model",
                  "rawType": "object",
                  "type": "string"
                },
                {
                  "name": "best_params_vectorizer_count",
                  "rawType": "object",
                  "type": "string"
                },
                {
                  "name": "best_params_vectorizer_hash",
                  "rawType": "object",
                  "type": "string"
                },
                {
                  "name": "best_params_vectorizer_tfid",
                  "rawType": "object",
                  "type": "string"
                }
              ],
              "ref": "5a5755a5-fd1c-46e8-83af-872ed8871454",
              "rows": [
                [
                  "0",
                  "Logistic Regression",
                  "{'C': 1}",
                  "{'C': 10}",
                  "{'C': 0.1}"
                ],
                [
                  "0",
                  "KNN",
                  "{'weights': 'uniform', 'n_neighbors': 5}",
                  "{'weights': 'uniform', 'n_neighbors': 9}",
                  "{'weights': 'distance', 'n_neighbors': 5}"
                ],
                [
                  "0",
                  "Random Forests",
                  "{'n_estimators': 300, 'min_samples_split': 10, 'min_samples_leaf': 1, 'max_depth': None}",
                  "{'n_estimators': 300, 'min_samples_split': 5, 'min_samples_leaf': 2, 'max_depth': 30}",
                  "{'n_estimators': 300, 'min_samples_split': 5, 'min_samples_leaf': 1, 'max_depth': None}"
                ],
                [
                  "0",
                  "XGBoost",
                  "{'n_estimators': 300, 'max_depth': 3, 'learning_rate': 0.2}",
                  "{'n_estimators': 300, 'max_depth': 5, 'learning_rate': 0.2}",
                  "{'n_estimators': 100, 'max_depth': 4, 'learning_rate': 0.1}"
                ],
                [
                  "0",
                  "SVM",
                  "{'kernel': 'rbf', 'C': 10}",
                  "{'kernel': 'rbf', 'C': 10}",
                  "{'kernel': 'rbf', 'C': 0.1}"
                ],
                [
                  "0",
                  "Naive Bayes",
                  "{'force_alpha': True, 'alpha': 1}",
                  "{'force_alpha': True, 'alpha': 1}",
                  "{'force_alpha': True, 'alpha': 1}"
                ]
              ],
              "shape": {
                "columns": 4,
                "rows": 6
              }
            },
            "text/html": [
              "<div>\n",
              "<style scoped>\n",
              "    .dataframe tbody tr th:only-of-type {\n",
              "        vertical-align: middle;\n",
              "    }\n",
              "\n",
              "    .dataframe tbody tr th {\n",
              "        vertical-align: top;\n",
              "    }\n",
              "\n",
              "    .dataframe thead th {\n",
              "        text-align: right;\n",
              "    }\n",
              "</style>\n",
              "<table border=\"1\" class=\"dataframe\">\n",
              "  <thead>\n",
              "    <tr style=\"text-align: right;\">\n",
              "      <th></th>\n",
              "      <th>model</th>\n",
              "      <th>best_params_vectorizer_count</th>\n",
              "      <th>best_params_vectorizer_hash</th>\n",
              "      <th>best_params_vectorizer_tfid</th>\n",
              "    </tr>\n",
              "  </thead>\n",
              "  <tbody>\n",
              "    <tr>\n",
              "      <th>0</th>\n",
              "      <td>Logistic Regression</td>\n",
              "      <td>{'C': 1}</td>\n",
              "      <td>{'C': 10}</td>\n",
              "      <td>{'C': 0.1}</td>\n",
              "    </tr>\n",
              "    <tr>\n",
              "      <th>0</th>\n",
              "      <td>KNN</td>\n",
              "      <td>{'weights': 'uniform', 'n_neighbors': 5}</td>\n",
              "      <td>{'weights': 'uniform', 'n_neighbors': 9}</td>\n",
              "      <td>{'weights': 'distance', 'n_neighbors': 5}</td>\n",
              "    </tr>\n",
              "    <tr>\n",
              "      <th>0</th>\n",
              "      <td>Random Forests</td>\n",
              "      <td>{'n_estimators': 300, 'min_samples_split': 10,...</td>\n",
              "      <td>{'n_estimators': 300, 'min_samples_split': 5, ...</td>\n",
              "      <td>{'n_estimators': 300, 'min_samples_split': 5, ...</td>\n",
              "    </tr>\n",
              "    <tr>\n",
              "      <th>0</th>\n",
              "      <td>XGBoost</td>\n",
              "      <td>{'n_estimators': 300, 'max_depth': 3, 'learnin...</td>\n",
              "      <td>{'n_estimators': 300, 'max_depth': 5, 'learnin...</td>\n",
              "      <td>{'n_estimators': 100, 'max_depth': 4, 'learnin...</td>\n",
              "    </tr>\n",
              "    <tr>\n",
              "      <th>0</th>\n",
              "      <td>SVM</td>\n",
              "      <td>{'kernel': 'rbf', 'C': 10}</td>\n",
              "      <td>{'kernel': 'rbf', 'C': 10}</td>\n",
              "      <td>{'kernel': 'rbf', 'C': 0.1}</td>\n",
              "    </tr>\n",
              "    <tr>\n",
              "      <th>0</th>\n",
              "      <td>Naive Bayes</td>\n",
              "      <td>{'force_alpha': True, 'alpha': 1}</td>\n",
              "      <td>{'force_alpha': True, 'alpha': 1}</td>\n",
              "      <td>{'force_alpha': True, 'alpha': 1}</td>\n",
              "    </tr>\n",
              "  </tbody>\n",
              "</table>\n",
              "</div>"
            ],
            "text/plain": [
              "                 model                       best_params_vectorizer_count  \\\n",
              "0  Logistic Regression                                           {'C': 1}   \n",
              "0                  KNN           {'weights': 'uniform', 'n_neighbors': 5}   \n",
              "0       Random Forests  {'n_estimators': 300, 'min_samples_split': 10,...   \n",
              "0              XGBoost  {'n_estimators': 300, 'max_depth': 3, 'learnin...   \n",
              "0                  SVM                         {'kernel': 'rbf', 'C': 10}   \n",
              "0          Naive Bayes                  {'force_alpha': True, 'alpha': 1}   \n",
              "\n",
              "                         best_params_vectorizer_hash  \\\n",
              "0                                          {'C': 10}   \n",
              "0           {'weights': 'uniform', 'n_neighbors': 9}   \n",
              "0  {'n_estimators': 300, 'min_samples_split': 5, ...   \n",
              "0  {'n_estimators': 300, 'max_depth': 5, 'learnin...   \n",
              "0                         {'kernel': 'rbf', 'C': 10}   \n",
              "0                  {'force_alpha': True, 'alpha': 1}   \n",
              "\n",
              "                         best_params_vectorizer_tfid  \n",
              "0                                         {'C': 0.1}  \n",
              "0          {'weights': 'distance', 'n_neighbors': 5}  \n",
              "0  {'n_estimators': 300, 'min_samples_split': 5, ...  \n",
              "0  {'n_estimators': 100, 'max_depth': 4, 'learnin...  \n",
              "0                        {'kernel': 'rbf', 'C': 0.1}  \n",
              "0                  {'force_alpha': True, 'alpha': 1}  "
            ]
          },
          "execution_count": 65,
          "metadata": {},
          "output_type": "execute_result"
        }
      ],
      "source": [
        "results_df[[\"model\", \"best_params_vectorizer_count\",\"best_params_vectorizer_hash\",\"best_params_vectorizer_tfid\" ]]"
      ]
    },
    {
      "cell_type": "code",
      "execution_count": 83,
      "metadata": {
        "colab": {
          "base_uri": "https://localhost:8080/"
        },
        "id": "IzrFFt8n4-hD",
        "outputId": "791bbc63-1d35-438d-e613-277829b7344d"
      },
      "outputs": [
        {
          "name": "stdout",
          "output_type": "stream",
          "text": [
            "The prediction result of this review is: positive\n"
          ]
        }
      ],
      "source": [
        "# Here you change the reviews\n",
        "text = 'Adayala road is amazing'\n",
        "\n",
        "# Make a prediction for this review\n",
        "score=model_3.predict_proba(vectorizer_tfid.transform([text]))[0][1]\n",
        "\n",
        "if score >0.5:\n",
        "  attitude='negative'\n",
        "else:\n",
        "  attitude='positive'\n",
        "\n",
        "print('The prediction result of this review is: '+ attitude)"
      ]
    },
    {
      "cell_type": "code",
      "execution_count": null,
      "metadata": {},
      "outputs": [],
      "source": []
    }
  ],
  "metadata": {
    "colab": {
      "provenance": []
    },
    "kernelspec": {
      "display_name": ".venv",
      "language": "python",
      "name": "python3"
    },
    "language_info": {
      "codemirror_mode": {
        "name": "ipython",
        "version": 3
      },
      "file_extension": ".py",
      "mimetype": "text/x-python",
      "name": "python",
      "nbconvert_exporter": "python",
      "pygments_lexer": "ipython3",
      "version": "3.13.7"
    }
  },
  "nbformat": 4,
  "nbformat_minor": 0
}
